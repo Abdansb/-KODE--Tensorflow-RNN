{
  "cells": [
    {
      "cell_type": "code",
      "execution_count": 5,
      "metadata": {
        "id": "bsJ1o9DE8hL7"
      },
      "outputs": [],
      "source": [
        "import pandas as pd\n",
        "import tensorflow as tf\n",
        "import numpy as np\n",
        "from tensorflow.keras.preprocessing.sequence import pad_sequences\n",
        "from sklearn.model_selection import train_test_split"
      ]
    },
    {
      "cell_type": "code",
      "execution_count": 2,
      "metadata": {},
      "outputs": [
        {
          "name": "stdout",
          "output_type": "stream",
          "text": [
            "ok\n"
          ]
        }
      ],
      "source": [
        "try:\n",
        "  # %tensorflow_version only exists in Colab.\n",
        "  %tensorflow_version 2.x\n",
        "except Exception:\n",
        "  print(\"ok\")\n",
        "  pass\n",
        "\n",
        "#%load_ext tensorboard\n",
        "#%reload_ext tensorboard"
      ]
    },
    {
      "cell_type": "code",
      "execution_count": 6,
      "metadata": {
        "id": "JEC8AO2B9Dzi"
      },
      "outputs": [
        {
          "name": "stdout",
          "output_type": "stream",
          "text": [
            "Train len:  111\n",
            "Val len:  38\n",
            "Test len:  10\n"
          ]
        }
      ],
      "source": [
        "from sklearn.model_selection import train_test_split\n",
        "\n",
        "# Load the preprocessed dataset\n",
        "dataset = pd.read_csv(\"preprocessed_dataset.csv\")\n",
        "\n",
        "# Assuming you have text_messages and department_labels arrays\n",
        "text_messages = dataset[\"Message\"]\n",
        "department_labels = dataset[\"Departement\"]\n",
        "\n",
        "# Convert department labels to numerical format\n",
        "label_map = {label: index for index, label in enumerate(set(department_labels))}\n",
        "numerical_labels = [label_map[label] for label in department_labels]\n",
        "\n",
        "# Split dataset into training, validation, and test sets\n",
        "train_text, temp_text, train_labels, temp_labels = train_test_split(\n",
        "    text_messages, numerical_labels, test_size=0.3, random_state=42\n",
        ")\n",
        "val_text, test_text, val_labels, test_labels = train_test_split(\n",
        "    temp_text, temp_labels, test_size=0.2, random_state=42\n",
        ")\n",
        "\n",
        "# Create TensorFlow datasets\n",
        "train_dataset = tf.data.Dataset.from_tensor_slices((train_text, train_labels))\n",
        "val_dataset = tf.data.Dataset.from_tensor_slices((val_text, val_labels))\n",
        "test_dataset = tf.data.Dataset.from_tensor_slices((test_text, test_labels))\n",
        "\n",
        "print(\"Train len: \", len(train_text))\n",
        "print(\"Val len: \", len(val_text))\n",
        "print(\"Test len: \", len(test_text))"
      ]
    },
    {
      "cell_type": "code",
      "execution_count": 7,
      "metadata": {
        "colab": {
          "base_uri": "https://localhost:8080/"
        },
        "id": "UESCP3XB-eUJ",
        "outputId": "9b1d7929-fd2d-458c-f710-95166d591f2d"
      },
      "outputs": [
        {
          "name": "stdout",
          "output_type": "stream",
          "text": [
            "text:  b'pak kepareng matur mbok tulung pikiraken dalan wonosobo watumalang dalan kecamatan rekoso kok puluhan taun nganti pengen pindah provinsi sayang mboten saget'\n",
            "label:  2\n",
            "text:  b'jalan rusak parah di jalan utama jl kabupaten penghubung desa kaligowong wonosobo dengan desa pecekelan kabupaten kebumen mohon ditindaklanjuti pak sangat ingin jalan yang layak sudah hampir th lebih jalan rusak parah banget '\n",
            "label:  2\n",
            "text:  b'alamat kabupaten kota jakarta selatan kecamatan tebet kelurahan menteng dalam laporan asslamuallaikum pak ganjar perkenalkan nama saya vioranda raditya herkaputra ijin pak saya habis menonton cuplikan bapak terkait x jam akan ada respon apabila terjadi ketidakadilan pak ijin pak mobil saya dibawa lari oleh warga bapak di wonosobo atas nama anang sugiarto yang merupakan adik dari kepala desa sapuran wonosobo sejak tahun lalu saya mencoba melapor ke polres wonosobo tetapi tidak ada respon pak sudah beberapa kali bolak balik polres tapi terkesan tidak ada hasil sehingga di tahun saya melapor ke polda jateng dan ditanggapi pak dan diterima namun sampai saat ini blm ada tindak lanjut lagi sudah berjalan bulan dan saya akhirnya tau bahwa pelaku merupakan sindikat jual beli mobil bodong pak skali lagi mohon maaf pak ini adalah proses ikhtiar saya saya sudah mempersiapkan utk memviralkan ini karena korban sudah puluhan ada yg sudah dipenjara ibu ibu di semarang karena kena hukum fidusia kalau saya alhamdulillah bisa mengbil bpkb pak mohon ditindaklanjuti pak tolong kami saya bisa menjelaskan secara detail pak mohon maaf apabila ada kata yg kurang tepat karena kelemaham dr wa pak matur suwun '\n",
            "label:  1\n"
          ]
        }
      ],
      "source": [
        "for example, label in train_dataset.take(3):\n",
        "    print(\"text: \", example.numpy())\n",
        "    print(\"label: \", label.numpy())"
      ]
    },
    {
      "cell_type": "code",
      "execution_count": 8,
      "metadata": {
        "id": "HEAC2Y8d-xqv"
      },
      "outputs": [],
      "source": [
        "BUFFER_SIZE = 10000\n",
        "BATCH_SIZE = 64\n",
        "\n",
        "train_dataset = (\n",
        "    train_dataset.shuffle(BUFFER_SIZE).batch(BATCH_SIZE).prefetch(tf.data.AUTOTUNE)\n",
        ")\n",
        "val_dataset = val_dataset.batch(BATCH_SIZE).prefetch(tf.data.AUTOTUNE)\n",
        "test_dataset = test_dataset.batch(BATCH_SIZE).prefetch(tf.data.AUTOTUNE)"
      ]
    },
    {
      "cell_type": "code",
      "execution_count": 9,
      "metadata": {
        "colab": {
          "base_uri": "https://localhost:8080/"
        },
        "id": "7rlMsWmu_IHi",
        "outputId": "9cc67286-d4ad-4dd0-eb8d-7c2e390d190e"
      },
      "outputs": [
        {
          "name": "stdout",
          "output_type": "stream",
          "text": [
            "texts:  [b'lapor pak ganjar di desa batursari sapuran wonosobo pamsimas menggunakan bendungan dari air kali kemungkinan air kali itu kotor karna saluran dari desa setempat mengalir ke kali itu setau saya pamsimas harus menggunakan sumber air asli pegunungan'\n",
            " b'jalan kepil bruno yg telah masuk kategori jalan propinsi amblas pada tgl sedalam kurang lebih cm'\n",
            " b'asllamualkaikum wr wb maf sblmnya saya ingn ksh infrmsi bawha msh ada pungli d wonosobo ini keluh kesah dri warga yang kena tilang di jalan hnya tidak pnya sim di kenakan tilang rb nominal yang tak sedikit menurut kami karna yg sudah hnya dpt denda rb katanya petugas jika sidang nominal sma dan jika ingin sidang saja maka motor akan di bawa petugas saya mau tanya apa benar hnya tak punya sim denda tilang rb apakah nominal tak punya sim c naik dri dlu yg rb jadi rb dan jika ingin sidang knp mtor harus di sita dan bnyak pula yang bayar di tempat dengan nominal trsebut trimakasih']\n",
            "\n",
            "labels:  [2 1 0]\n"
          ]
        }
      ],
      "source": [
        "for example, label in train_dataset.take(1):\n",
        "    print(\"texts: \", example.numpy()[:3])\n",
        "    print()\n",
        "    print(\"labels: \", label.numpy()[:3])"
      ]
    },
    {
      "cell_type": "code",
      "execution_count": 9,
      "metadata": {
        "id": "PrAUfFF6_YkT"
      },
      "outputs": [],
      "source": [
        "VOCAB_SIZE = 1000\n",
        "encoder = tf.keras.layers.TextVectorization(max_tokens=VOCAB_SIZE)\n",
        "encoder.adapt(train_dataset.map(lambda text, label: text))"
      ]
    },
    {
      "cell_type": "code",
      "execution_count": 12,
      "metadata": {
        "colab": {
          "base_uri": "https://localhost:8080/"
        },
        "id": "xtEOHyw7_b67",
        "outputId": "bed0f42c-f060-4427-b073-17e15194e506"
      },
      "outputs": [
        {
          "data": {
            "text/plain": [
              "array(['', '[UNK]', 'saya', 'di', 'pak', 'dan', 'wonosobo', 'ada',\n",
              "       'jalan', 'yg', 'tidak', 'yang', 'mohon', 'untuk', 'sudah', 'ke',\n",
              "       'ini', 'dari', 'karena', 'biaya'], dtype='<U15')"
            ]
          },
          "execution_count": 12,
          "metadata": {},
          "output_type": "execute_result"
        }
      ],
      "source": [
        "vocab = np.array(encoder.get_vocabulary())\n",
        "vocab[:20]"
      ]
    },
    {
      "cell_type": "code",
      "execution_count": null,
      "metadata": {
        "colab": {
          "base_uri": "https://localhost:8080/"
        },
        "id": "GXYHYR89_txA",
        "outputId": "e98429c0-41fb-4e07-cc2d-07a4ef183d1b"
      },
      "outputs": [
        {
          "ename": "NameError",
          "evalue": "name 'example' is not defined",
          "output_type": "error",
          "traceback": [
            "\u001b[0;31m---------------------------------------------------------------------------\u001b[0m",
            "\u001b[0;31mNameError\u001b[0m                                 Traceback (most recent call last)",
            "Cell \u001b[0;32mIn[8], line 1\u001b[0m\n\u001b[0;32m----> 1\u001b[0m encoded_example \u001b[38;5;241m=\u001b[39m encoder(\u001b[43mexample\u001b[49m)[:\u001b[38;5;241m3\u001b[39m]\u001b[38;5;241m.\u001b[39mnumpy()\n\u001b[1;32m      2\u001b[0m encoded_example\n",
            "\u001b[0;31mNameError\u001b[0m: name 'example' is not defined"
          ]
        }
      ],
      "source": [
        "encoded_example = encoder(example)[:3].numpy()\n",
        "encoded_example"
      ]
    },
    {
      "cell_type": "code",
      "execution_count": 11,
      "metadata": {
        "colab": {
          "base_uri": "https://localhost:8080/"
        },
        "id": "igWu4vQw_1iE",
        "outputId": "549c01ce-90b8-451d-98ab-6998bc27c4bb"
      },
      "outputs": [
        {
          "name": "stderr",
          "output_type": "stream",
          "text": [
            "2024-04-19 17:51:53.617583: W tensorflow/core/framework/op_kernel.cc:1745] OP_REQUIRES failed at strided_slice_op.cc:108 : INVALID_ARGUMENT: Index out of range using input dim 0; input has only 0 dims\n"
          ]
        },
        {
          "ename": "InvalidArgumentError",
          "evalue": "Index out of range using input dim 0; input has only 0 dims [Op:StridedSlice] name: strided_slice/",
          "output_type": "error",
          "traceback": [
            "\u001b[0;31m---------------------------------------------------------------------------\u001b[0m",
            "\u001b[0;31mInvalidArgumentError\u001b[0m                      Traceback (most recent call last)",
            "\u001b[0;32m/tmp/ipykernel_15225/188386590.py\u001b[0m in \u001b[0;36m<module>\u001b[0;34m\u001b[0m\n\u001b[1;32m      1\u001b[0m \u001b[0;32mfor\u001b[0m \u001b[0mn\u001b[0m \u001b[0;32min\u001b[0m \u001b[0mrange\u001b[0m\u001b[0;34m(\u001b[0m\u001b[0;36m3\u001b[0m\u001b[0;34m)\u001b[0m\u001b[0;34m:\u001b[0m\u001b[0;34m\u001b[0m\u001b[0;34m\u001b[0m\u001b[0m\n\u001b[0;32m----> 2\u001b[0;31m     \u001b[0mprint\u001b[0m\u001b[0;34m(\u001b[0m\u001b[0;34m\"Original: \"\u001b[0m\u001b[0;34m,\u001b[0m \u001b[0mexample\u001b[0m\u001b[0;34m[\u001b[0m\u001b[0mn\u001b[0m\u001b[0;34m]\u001b[0m\u001b[0;34m.\u001b[0m\u001b[0mnumpy\u001b[0m\u001b[0;34m(\u001b[0m\u001b[0;34m)\u001b[0m\u001b[0;34m)\u001b[0m\u001b[0;34m\u001b[0m\u001b[0;34m\u001b[0m\u001b[0m\n\u001b[0m\u001b[1;32m      3\u001b[0m     \u001b[0mprint\u001b[0m\u001b[0;34m(\u001b[0m\u001b[0;34m\"Round-trip: \"\u001b[0m\u001b[0;34m,\u001b[0m \u001b[0;34m\" \"\u001b[0m\u001b[0;34m.\u001b[0m\u001b[0mjoin\u001b[0m\u001b[0;34m(\u001b[0m\u001b[0mvocab\u001b[0m\u001b[0;34m[\u001b[0m\u001b[0mencoded_example\u001b[0m\u001b[0;34m[\u001b[0m\u001b[0mn\u001b[0m\u001b[0;34m]\u001b[0m\u001b[0;34m]\u001b[0m\u001b[0;34m)\u001b[0m\u001b[0;34m)\u001b[0m\u001b[0;34m\u001b[0m\u001b[0;34m\u001b[0m\u001b[0m\n\u001b[1;32m      4\u001b[0m     \u001b[0mprint\u001b[0m\u001b[0;34m(\u001b[0m\u001b[0;34m)\u001b[0m\u001b[0;34m\u001b[0m\u001b[0;34m\u001b[0m\u001b[0m\n",
            "\u001b[0;32m~/.local/lib/python3.7/site-packages/tensorflow/python/util/traceback_utils.py\u001b[0m in \u001b[0;36merror_handler\u001b[0;34m(*args, **kwargs)\u001b[0m\n\u001b[1;32m    151\u001b[0m     \u001b[0;32mexcept\u001b[0m \u001b[0mException\u001b[0m \u001b[0;32mas\u001b[0m \u001b[0me\u001b[0m\u001b[0;34m:\u001b[0m\u001b[0;34m\u001b[0m\u001b[0;34m\u001b[0m\u001b[0m\n\u001b[1;32m    152\u001b[0m       \u001b[0mfiltered_tb\u001b[0m \u001b[0;34m=\u001b[0m \u001b[0m_process_traceback_frames\u001b[0m\u001b[0;34m(\u001b[0m\u001b[0me\u001b[0m\u001b[0;34m.\u001b[0m\u001b[0m__traceback__\u001b[0m\u001b[0;34m)\u001b[0m\u001b[0;34m\u001b[0m\u001b[0;34m\u001b[0m\u001b[0m\n\u001b[0;32m--> 153\u001b[0;31m       \u001b[0;32mraise\u001b[0m \u001b[0me\u001b[0m\u001b[0;34m.\u001b[0m\u001b[0mwith_traceback\u001b[0m\u001b[0;34m(\u001b[0m\u001b[0mfiltered_tb\u001b[0m\u001b[0;34m)\u001b[0m \u001b[0;32mfrom\u001b[0m \u001b[0;32mNone\u001b[0m\u001b[0;34m\u001b[0m\u001b[0;34m\u001b[0m\u001b[0m\n\u001b[0m\u001b[1;32m    154\u001b[0m     \u001b[0;32mfinally\u001b[0m\u001b[0;34m:\u001b[0m\u001b[0;34m\u001b[0m\u001b[0;34m\u001b[0m\u001b[0m\n\u001b[1;32m    155\u001b[0m       \u001b[0;32mdel\u001b[0m \u001b[0mfiltered_tb\u001b[0m\u001b[0;34m\u001b[0m\u001b[0;34m\u001b[0m\u001b[0m\n",
            "\u001b[0;32m~/.local/lib/python3.7/site-packages/tensorflow/python/framework/ops.py\u001b[0m in \u001b[0;36mraise_from_not_ok_status\u001b[0;34m(e, name)\u001b[0m\n\u001b[1;32m   7184\u001b[0m \u001b[0;32mdef\u001b[0m \u001b[0mraise_from_not_ok_status\u001b[0m\u001b[0;34m(\u001b[0m\u001b[0me\u001b[0m\u001b[0;34m,\u001b[0m \u001b[0mname\u001b[0m\u001b[0;34m)\u001b[0m\u001b[0;34m:\u001b[0m\u001b[0;34m\u001b[0m\u001b[0;34m\u001b[0m\u001b[0m\n\u001b[1;32m   7185\u001b[0m   \u001b[0me\u001b[0m\u001b[0;34m.\u001b[0m\u001b[0mmessage\u001b[0m \u001b[0;34m+=\u001b[0m \u001b[0;34m(\u001b[0m\u001b[0;34m\" name: \"\u001b[0m \u001b[0;34m+\u001b[0m \u001b[0mname\u001b[0m \u001b[0;32mif\u001b[0m \u001b[0mname\u001b[0m \u001b[0;32mis\u001b[0m \u001b[0;32mnot\u001b[0m \u001b[0;32mNone\u001b[0m \u001b[0;32melse\u001b[0m \u001b[0;34m\"\"\u001b[0m\u001b[0;34m)\u001b[0m\u001b[0;34m\u001b[0m\u001b[0;34m\u001b[0m\u001b[0m\n\u001b[0;32m-> 7186\u001b[0;31m   \u001b[0;32mraise\u001b[0m \u001b[0mcore\u001b[0m\u001b[0;34m.\u001b[0m\u001b[0m_status_to_exception\u001b[0m\u001b[0;34m(\u001b[0m\u001b[0me\u001b[0m\u001b[0;34m)\u001b[0m \u001b[0;32mfrom\u001b[0m \u001b[0;32mNone\u001b[0m  \u001b[0;31m# pylint: disable=protected-access\u001b[0m\u001b[0;34m\u001b[0m\u001b[0;34m\u001b[0m\u001b[0m\n\u001b[0m\u001b[1;32m   7187\u001b[0m \u001b[0;34m\u001b[0m\u001b[0m\n\u001b[1;32m   7188\u001b[0m \u001b[0;34m\u001b[0m\u001b[0m\n",
            "\u001b[0;31mInvalidArgumentError\u001b[0m: Index out of range using input dim 0; input has only 0 dims [Op:StridedSlice] name: strided_slice/"
          ]
        }
      ],
      "source": [
        "for n in range(3):\n",
        "    print(\"Original: \", example[n].numpy())\n",
        "    print(\"Round-trip: \", \" \".join(vocab[encoded_example[n]]))\n",
        "    print()"
      ]
    },
    {
      "cell_type": "code",
      "execution_count": 13,
      "metadata": {
        "colab": {
          "base_uri": "https://localhost:8080/"
        },
        "id": "uf34CrA6AbK0",
        "outputId": "402a0528-1e12-4ff0-f703-2b29f9dd3173"
      },
      "outputs": [
        {
          "name": "stdout",
          "output_type": "stream",
          "text": [
            "Train len:  111\n",
            "Val len:  38\n",
            "Test len:  10\n",
            "Steps per epoch: 1\n",
            "Validation steps: 0\n"
          ]
        }
      ],
      "source": [
        "total_train_samples = len(train_text)\n",
        "total_val_samples = len(val_text)\n",
        "\n",
        "# Calculate the number of epochs\n",
        "# Assuming each epoch goes through the entire training dataset\n",
        "num_epochs = 10\n",
        "\n",
        "# Calculate steps per epoch\n",
        "# Steps per epoch should be total_train_samples divided by batch size\n",
        "steps_per_epoch = total_train_samples // BATCH_SIZE\n",
        "\n",
        "# Calculate validation steps\n",
        "# Validation steps should be total_val_samples divided by batch size\n",
        "validation_steps = total_val_samples // BATCH_SIZE\n",
        "\n",
        "print(\"Train len: \", len(train_text))\n",
        "print(\"Val len: \", len(val_text))\n",
        "print(\"Test len: \", len(test_text))\n",
        "print(\"Steps per epoch:\", steps_per_epoch)\n",
        "print(\"Validation steps:\", validation_steps)"
      ]
    },
    {
      "cell_type": "code",
      "execution_count": 14,
      "metadata": {
        "id": "BL2XatdSAWLr"
      },
      "outputs": [],
      "source": [
        "model = tf.keras.Sequential(\n",
        "    [\n",
        "        encoder,\n",
        "        tf.keras.layers.Embedding(\n",
        "            input_dim=len(encoder.get_vocabulary()),\n",
        "            output_dim=64,\n",
        "            # Use masking to handle the variable sequence lengths\n",
        "            mask_zero=True,\n",
        "        ),\n",
        "        tf.keras.layers.Bidirectional(tf.keras.layers.LSTM(64)),\n",
        "        tf.keras.layers.Dense(64, activation=\"relu\"),\n",
        "        tf.keras.layers.Dense(len(label_map), activation=\"softmax\"),\n",
        "    ]\n",
        ")"
      ]
    },
    {
      "cell_type": "code",
      "execution_count": 15,
      "metadata": {
        "colab": {
          "base_uri": "https://localhost:8080/"
        },
        "id": "Sk6eIeWNAh-i",
        "outputId": "3df50cca-f4b1-41ef-e0bb-e75be953ddc5"
      },
      "outputs": [
        {
          "name": "stdout",
          "output_type": "stream",
          "text": [
            "Epoch 1/15\n",
            "2/2 [==============================] - 34s 9s/step - loss: 1.0958 - accuracy: 0.4595 - val_loss: 1.0838 - val_accuracy: 0.6316\n",
            "Epoch 2/15\n",
            "2/2 [==============================] - 4s 1s/step - loss: 1.0857 - accuracy: 0.4955 - val_loss: 1.0686 - val_accuracy: 0.6316\n",
            "Epoch 3/15\n",
            "2/2 [==============================] - 3s 1s/step - loss: 1.0727 - accuracy: 0.4955 - val_loss: 1.0483 - val_accuracy: 0.6316\n",
            "Epoch 4/15\n",
            "2/2 [==============================] - 4s 2s/step - loss: 1.0563 - accuracy: 0.4955 - val_loss: 1.0197 - val_accuracy: 0.6316\n",
            "Epoch 5/15\n",
            "2/2 [==============================] - 4s 2s/step - loss: 1.0327 - accuracy: 0.4955 - val_loss: 0.9823 - val_accuracy: 0.6316\n",
            "Epoch 6/15\n",
            "2/2 [==============================] - 4s 1s/step - loss: 1.0033 - accuracy: 0.4955 - val_loss: 0.9384 - val_accuracy: 0.6316\n",
            "Epoch 7/15\n",
            "2/2 [==============================] - 4s 842ms/step - loss: 0.9680 - accuracy: 0.4955 - val_loss: 0.9067 - val_accuracy: 0.6316\n",
            "Epoch 8/15\n",
            "2/2 [==============================] - 4s 3s/step - loss: 0.9472 - accuracy: 0.4955 - val_loss: 0.9021 - val_accuracy: 0.6316\n",
            "Epoch 9/15\n",
            "2/2 [==============================] - 3s 2s/step - loss: 0.9049 - accuracy: 0.4955 - val_loss: 0.8857 - val_accuracy: 0.6316\n",
            "Epoch 10/15\n",
            "2/2 [==============================] - 5s 2s/step - loss: 0.8474 - accuracy: 0.4955 - val_loss: 0.8595 - val_accuracy: 0.6316\n",
            "Epoch 11/15\n",
            "2/2 [==============================] - 4s 1s/step - loss: 0.7812 - accuracy: 0.5225 - val_loss: 0.8165 - val_accuracy: 0.6316\n",
            "Epoch 12/15\n",
            "2/2 [==============================] - 3s 1s/step - loss: 0.6906 - accuracy: 0.6667 - val_loss: 0.7638 - val_accuracy: 0.6316\n",
            "Epoch 13/15\n",
            "2/2 [==============================] - 3s 2s/step - loss: 0.5900 - accuracy: 0.7838 - val_loss: 0.9961 - val_accuracy: 0.6579\n",
            "Epoch 14/15\n",
            "2/2 [==============================] - 3s 2s/step - loss: 0.5637 - accuracy: 0.8288 - val_loss: 0.7839 - val_accuracy: 0.6842\n",
            "Epoch 15/15\n",
            "2/2 [==============================] - 4s 1s/step - loss: 0.5008 - accuracy: 0.8378 - val_loss: 0.8614 - val_accuracy: 0.6579\n"
          ]
        }
      ],
      "source": [
        "model.compile(\n",
        "    loss=\"sparse_categorical_crossentropy\", optimizer=\"Adam\", metrics=[\"accuracy\"]\n",
        ")\n",
        "\n",
        "history = model.fit(\n",
        "    train_dataset,\n",
        "    epochs=15,\n",
        "    validation_data=val_dataset,\n",
        "    # validation_steps=1\n",
        ")"
      ]
    },
    {
      "cell_type": "code",
      "execution_count": 16,
      "metadata": {
        "colab": {
          "base_uri": "https://localhost:8080/",
          "height": 498
        },
        "id": "Jr_565r-GPC3",
        "outputId": "b069b60f-3f54-4c94-9475-a3883b71000f"
      },
      "outputs": [
        {
          "data": {
            "image/png": "[encoded data removed]",
            "text/plain": [
              "<Figure size 1600x600 with 2 Axes>"
            ]
          },
          "metadata": {},
          "output_type": "display_data"
        }
      ],
      "source": [
        "import matplotlib.pyplot as plt\n",
        "\n",
        "\n",
        "def plot_graphs(history, metric):\n",
        "    plt.plot(history.history[metric])\n",
        "    plt.plot(history.history[\"val_\" + metric], \"\")\n",
        "    plt.xlabel(\"Epochs\")\n",
        "    plt.ylabel(metric)\n",
        "    plt.legend([metric, \"val_\" + metric])\n",
        "\n",
        "\n",
        "plt.figure(figsize=(16, 6))\n",
        "plt.subplot(1, 2, 1)\n",
        "plot_graphs(history, \"accuracy\")\n",
        "plt.subplot(1, 2, 2)\n",
        "plot_graphs(history, \"loss\")"
      ]
    },
    {
      "cell_type": "code",
      "execution_count": 18,
      "metadata": {
        "colab": {
          "base_uri": "https://localhost:8080/"
        },
        "id": "zBkiUwLsL-X5",
        "outputId": "2d003448-e124-404c-991b-f042e1495154"
      },
      "outputs": [
        {
          "name": "stdout",
          "output_type": "stream",
          "text": [
            "1/1 [==============================] - ETA: 0s - loss: 0.5231 - accuracy: 0.8000"
          ]
        },
        {
          "name": "stdout",
          "output_type": "stream",
          "text": [
            "1/1 [==============================] - 0s 124ms/step - loss: 0.5231 - accuracy: 0.8000\n",
            "Test Loss: 0.5230833292007446\n",
            "Test Accuracy: 0.800000011920929\n"
          ]
        }
      ],
      "source": [
        "test_loss, test_acc = model.evaluate(test_dataset)\n",
        "\n",
        "print(\"Test Loss:\", test_loss)\n",
        "print(\"Test Accuracy:\", test_acc)"
      ]
    },
    {
      "cell_type": "code",
      "execution_count": 19,
      "metadata": {},
      "outputs": [
        {
          "name": "stdout",
          "output_type": "stream",
          "text": [
            "Text: perempatan kretek wonosobo macet terus pak ganjar pranowo ada pos polisi tapi g ada yg jaga mohon solusinya\n",
            "True Label: 2\n",
            "Predicted Label: 3\n",
            "Class Probabilities:\n",
            "0.29761382937431335 dinas pekerjaan umum\n",
            "0.2811160683631897 kepolisian daerah jawa tengah\n",
            "0.42127007246017456 dinas kesehatan\n",
            "\n",
            "Text: jalan rusak parah yang menuju desa kepyar gumiwang tolong diperbaiki kasihan ibu hamil kendaraan yang melintas maaf saya ga bisa kirim gambar karna saya dijakarta\n",
            "True Label: 3\n",
            "Predicted Label: 3\n",
            "Class Probabilities:\n",
            "0.21968258917331696 dinas pekerjaan umum\n",
            "0.21471145749092102 kepolisian daerah jawa tengah\n",
            "0.5656059980392456 dinas kesehatan\n",
            "\n",
            "Text: jalan provinsi yg menghuhungkan parakan wonosobo yg sudah bulan macet km setiap sore hari karena jembatan rusak tidak ada perbaikan coba dikunjungi pak ganjar pranowo\n",
            "True Label: 3\n",
            "Predicted Label: 3\n",
            "Class Probabilities:\n",
            "0.21740616858005524 dinas pekerjaan umum\n",
            "0.2140342742204666 kepolisian daerah jawa tengah\n",
            "0.5685595870018005 dinas kesehatan\n",
            "\n",
            "Text: saya mau verifikasi atas laporan saya pada hari sabtu tgl kepada gub jateng atas semua laporan saya mengenai semua biaya pengurusan surat keterangan kecelakaan di sat lantas purworejo bahwasanya terjadi kesalahpahaman antara saya dengan pihak sat lantas polres purworejo saya pribadi minta maaf yg sedalam dalamnya atas kesalahpahaman masalah tersebut dan saya mengucapakan banyak terimakasih atas bantuannya selama ini kepada saudara saya \n",
            "True Label: 2\n",
            "Predicted Label: 2\n",
            "Class Probabilities:\n",
            "0.31552931666374207 dinas pekerjaan umum\n",
            "0.3785253167152405 kepolisian daerah jawa tengah\n",
            "0.30594533681869507 dinas kesehatan\n",
            "\n",
            "Text: bapak jalur tengah kepil kertek arah wonosobo muntilan jg lumayan banyak lobang jalur selatan purworejo petanahan kok ga beres nggih \n",
            "True Label: 3\n",
            "Predicted Label: 3\n",
            "Class Probabilities:\n",
            "0.2217366099357605 dinas pekerjaan umum\n",
            "0.2176216095685959 kepolisian daerah jawa tengah\n",
            "0.5606417655944824 dinas kesehatan\n",
            "\n",
            "Text: jalur atau jln dieng tepatnya ds tieng pas akhir pekan atau hari libur sering macet mohon untuk solusinya krn jln ciut perlu dilebarkan trims\n",
            "True Label: 3\n",
            "Predicted Label: 3\n",
            "Class Probabilities:\n",
            "0.21655146777629852 dinas pekerjaan umum\n",
            "0.2137489914894104 kepolisian daerah jawa tengah\n",
            "0.5696995258331299 dinas kesehatan\n",
            "\n",
            "Text: assalamualaikum pak ganjar trimakasih jalan kertek kota wnosobo udah di benahi dan di aspal bagus\n",
            "True Label: 3\n",
            "Predicted Label: 3\n",
            "Class Probabilities:\n",
            "0.2887629568576813 dinas pekerjaan umum\n",
            "0.2800934612751007 kepolisian daerah jawa tengah\n",
            "0.431143581867218 dinas kesehatan\n",
            "\n",
            "Text: pak banyak jalan rusak di sepanjang jalan kertek sapuran wonosobo \n",
            "True Label: 3\n",
            "Predicted Label: 3\n",
            "Class Probabilities:\n",
            "0.2285364419221878 dinas pekerjaan umum\n",
            "0.2277117520570755 kepolisian daerah jawa tengah\n",
            "0.5437518358230591 dinas kesehatan\n",
            "\n",
            "Text: assalamualaikum pak gub mau tanya apakah data covid di website corona jatengprov go id sama corono wonosobokab go id itu memang berbeda ya datanya saya liat data di corona jatengprov go id untuk wonosobo jumlah kasus tdk sampai an sedangkan website kabupaten yaitu di corona wonosobokab go id sampai an lebih mohon penjelasaanya bila perlu mohon di lakukan sidak ke beberapa rumah sakit terima kasih \n",
            "True Label: 1\n",
            "Predicted Label: 2\n",
            "Class Probabilities:\n",
            "0.33152204751968384 dinas pekerjaan umum\n",
            "0.36321067810058594 kepolisian daerah jawa tengah\n",
            "0.30526724457740784 dinas kesehatan\n",
            "\n",
            "Text: bpkb motor saya hilang mau ngurus di polres wonosobo saya tanya biayanya sekitar apakah benar \n",
            "True Label: 2\n",
            "Predicted Label: 2\n",
            "Class Probabilities:\n",
            "0.32035431265830994 dinas pekerjaan umum\n",
            "0.35203438997268677 kepolisian daerah jawa tengah\n",
            "0.3276112377643585 dinas kesehatan\n",
            "\n"
          ]
        }
      ],
      "source": [
        "# Retrieve a batch of text messages and labels from the test set\n",
        "text_batch, label_batch = next(iter(test_dataset))\n",
        "\n",
        "# Predict labels for the text batch\n",
        "predictions = model.predict_on_batch(text_batch)\n",
        "\n",
        "# Apply softmax to convert logits to probabilities\n",
        "predictions_prob = tf.nn.softmax(predictions)\n",
        "\n",
        "# Get the predicted class indices\n",
        "predicted_class_indices = tf.argmax(predictions_prob, axis=1).numpy()\n",
        "\n",
        "# Get the class probabilities\n",
        "probabilities = predictions_prob.numpy()\n",
        "\n",
        "# Define class names if available (replace with your actual class names)\n",
        "class_names = [\n",
        "    \"dinas pekerjaan umum\",\n",
        "    \"kepolisian daerah jawa tengah\",\n",
        "    \"dinas kesehatan\",\n",
        "]  # Add your class names here\n",
        "\n",
        "# Print the results for each text message\n",
        "for i in range(len(text_batch)):\n",
        "    print(f\"Text: {text_batch[i].numpy().decode('utf-8')}\")\n",
        "    print(\n",
        "        \"True Label:\", label_batch[i].numpy() + 1\n",
        "    )  # Add 1 to match index with class label\n",
        "    print(\"Predicted Label:\", predicted_class_indices[i] + 1)\n",
        "    print(\"Class Probabilities:\")\n",
        "    for j in range(len(probabilities[i])):\n",
        "        print(f\"{probabilities[i][j]} {class_names[j]}\")\n",
        "    print()"
      ]
    },
    {
      "cell_type": "code",
      "execution_count": null,
      "metadata": {
        "colab": {
          "base_uri": "https://localhost:8080/"
        },
        "id": "5-O-gR6cQX42",
        "outputId": "2104816c-dc68-4d6d-cf0e-f419b8fd2e90"
      },
      "outputs": [
        {
          "name": "stdout",
          "output_type": "stream",
          "text": [
            "[[0.2112273  0.43140593 0.35736674]]\n",
            "Probability: 0.43140593\n",
            "Numeric label 1 is: kepolisian daerah jawa tengah\n"
          ]
        }
      ],
      "source": [
        "sample_text = (\n",
        "    \"Text: bpkb motor saya hilang mau ngurus di polres wonosobo saya tanya biayanya sekitar apakah benar \"\n",
        ")\n",
        "predictions = model.predict(np.array([sample_text]))\n",
        "print(predictions)\n",
        "# print(label_map)\n",
        "\n",
        "# Get the predicted label with the highest probability\n",
        "predicted_label_index = np.argmax(predictions)\n",
        "\n",
        "print(\"Probability:\", predictions[0][predicted_label_index])\n",
        "\n",
        "\n",
        "# Function to get the key from a given value\n",
        "def get_key_from_value(dictionary, value):\n",
        "    for key, val in dictionary.items():\n",
        "        if val == value:\n",
        "            return key\n",
        "    return None  # If value is not found in the dictionary\n",
        "\n",
        "\n",
        "# Example usage\n",
        "value_to_find = np.argmax(predictions)\n",
        "key_for_value = get_key_from_value(label_map, value_to_find)\n",
        "if key_for_value is not None:\n",
        "    print(\"Numeric label\", value_to_find, \"is:\", key_for_value)\n",
        "else:\n",
        "    print(\"Value\", value_to_find, \"not found in the dictionary.\")"
      ]
    },
    {
      "cell_type": "code",
      "execution_count": null,
      "metadata": {},
      "outputs": [
        {
          "name": "stdout",
          "output_type": "stream",
          "text": [
            "{'dinas pekerjaan umum bina marga cipta karya': 0, 'kepolisian daerah jawa tengah': 1, 'dinas kesehatan': 2}\n"
          ]
        }
      ],
      "source": [
        "print(label_map)"
      ]
    },
    {
      "cell_type": "code",
      "execution_count": null,
      "metadata": {},
      "outputs": [],
      "source": [
        "# Assuming you have a TextVectorization layer named 'encoder' and a model defined\n",
        "\n",
        "# Set up a logs directory, so Tensorboard knows where to look for files.\n",
        "log_dir = \"/home/abdan/Desktop/Skripsi/[KODE] Tensorflow RNN/logs\"\n",
        "if not os.path.exists(log_dir):\n",
        "    os.makedirs(log_dir)\n",
        "\n",
        "# Save Labels separately on a line-by-line manner.\n",
        "with open(os.path.join(log_dir, \"metadata.tsv\"), \"w\") as f:\n",
        "    # Get the vocabulary from the TextVectorization layer\n",
        "    vocabulary = encoder.get_vocabulary()\n",
        "    for word in vocabulary:\n",
        "        f.write(\"{}\\n\".format(word))\n",
        "\n",
        "# Save the weights of the Embedding layer\n",
        "embedding_weights = model.layers[1].get_weights()[0]  # Assuming the Embedding layer is the second layer in your model\n",
        "embedding_variable = tf.Variable(embedding_weights, name='embedding')\n",
        "# Create a checkpoint from embedding\n",
        "checkpoint = tf.train.Checkpoint(embedding=embedding_variable)\n",
        "checkpoint.save(os.path.join(log_dir, \"embedding.ckpt\"))\n",
        "\n",
        "\n",
        "# Set up config.\n",
        "config = projector.ProjectorConfig()\n",
        "embedding = config.embeddings.add()\n",
        "# The name of the tensor will be suffixed by `/.ATTRIBUTES/VARIABLE_VALUE`.\n",
        "embedding.tensor_name = \"embedding/.ATTRIBUTES/VARIABLE_VALUE\"\n",
        "embedding.metadata_path = \"metadata.tsv\"  # Update to just \"metadata.tsv\"\n",
        "projector.visualize_embeddings(log_dir, config)\n"
      ]
    },
    {
      "cell_type": "code",
      "execution_count": null,
      "metadata": {},
      "outputs": [
        {
          "data": {
            "text/plain": [
              "Reusing TensorBoard on port 6006 (pid 98557), started 0:02:59 ago. (Use '!kill 98557' to kill it.)"
            ]
          },
          "metadata": {},
          "output_type": "display_data"
        },
        {
          "data": {
            "text/html": [
              "\n",
              "      <iframe id=\"tensorboard-frame-a97e2d07121aee6\" width=\"100%\" height=\"800\" frameborder=\"0\">\n",
              "      </iframe>\n",
              "      <script>\n",
              "        (function() {\n",
              "          const frame = document.getElementById(\"tensorboard-frame-a97e2d07121aee6\");\n",
              "          const url = new URL(\"http://localhost\");\n",
              "          const port = 6006;\n",
              "          if (port) {\n",
              "            url.port = port;\n",
              "          }\n",
              "          frame.src = url;\n",
              "        })();\n",
              "      </script>\n",
              "    "
            ],
            "text/plain": [
              "<IPython.core.display.HTML object>"
            ]
          },
          "metadata": {},
          "output_type": "display_data"
        },
        {
          "name": "stdout",
          "output_type": "stream",
          "text": [
            "Selecting TensorBoard with logdir /logs (started 0:02:59 ago; port 6006, pid 98557).\n"
          ]
        },
        {
          "data": {
            "text/html": [
              "\n",
              "      <iframe id=\"tensorboard-frame-fc0854364cb8f403\" width=\"100%\" height=\"500\" frameborder=\"0\">\n",
              "      </iframe>\n",
              "      <script>\n",
              "        (function() {\n",
              "          const frame = document.getElementById(\"tensorboard-frame-fc0854364cb8f403\");\n",
              "          const url = new URL(\"http://localhost\");\n",
              "          const port = 6006;\n",
              "          if (port) {\n",
              "            url.port = port;\n",
              "          }\n",
              "          frame.src = url;\n",
              "        })();\n",
              "      </script>\n",
              "    "
            ],
            "text/plain": [
              "<IPython.core.display.HTML object>"
            ]
          },
          "metadata": {},
          "output_type": "display_data"
        }
      ],
      "source": [
        "# Now run tensorboard against on log data we just saved.\n",
        "%tensorboard --logdir \"/logs\" --port 6006\n",
        "notebook.display(port=6006, height=500)"
      ]
    },
    {
      "cell_type": "code",
      "execution_count": null,
      "metadata": {},
      "outputs": [
        {
          "name": "stdout",
          "output_type": "stream",
          "text": [
            "/home/abdan/Desktop/Skripsi/[KODE] Tensorflow RNN\n",
            "Known TensorBoard instances:\n",
            "  - port 6006: logdir /logs (started 0:03:22 ago; pid 98557)\n"
          ]
        }
      ],
      "source": [
        "from tensorboard import notebook\n",
        "!pwd\n",
        "# Get a list of active TensorBoard instances\n",
        "tb_list = notebook.list()\n"
      ]
    }
  ],
  "metadata": {
    "colab": {
      "provenance": []
    },
    "kernelspec": {
      "display_name": "Python 3",
      "name": "python3"
    },
    "language_info": {
      "codemirror_mode": {
        "name": "ipython",
        "version": 3
      },
      "file_extension": ".py",
      "mimetype": "text/x-python",
      "name": "python",
      "nbconvert_exporter": "python",
      "pygments_lexer": "ipython3",
      "version": "3.7.5"
    }
  },
  "nbformat": 4,
  "nbformat_minor": 0
}
