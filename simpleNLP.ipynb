{
  "cells": [
    {
      "cell_type": "code",
      "execution_count": 2,
      "metadata": {
        "id": "bsJ1o9DE8hL7"
      },
      "outputs": [],
      "source": [
        "import pandas as pd\n",
        "import tensorflow as tf\n",
        "import numpy as np\n",
        "from tensorflow.keras.preprocessing.sequence import pad_sequences\n",
        "from sklearn.model_selection import train_test_split"
      ]
    },
    {
      "cell_type": "code",
      "execution_count": 130,
      "metadata": {},
      "outputs": [],
      "source": [
        "try:\n",
        "  # %tensorflow_version only exists in Colab.\n",
        "  %tensorflow_version 2.x\n",
        "except Exception:\n",
        "  pass\n",
        "\n",
        "#%load_ext tensorboard\n",
        "%reload_ext tensorboard"
      ]
    },
    {
      "cell_type": "code",
      "execution_count": 132,
      "metadata": {
        "id": "JEC8AO2B9Dzi"
      },
      "outputs": [
        {
          "name": "stdout",
          "output_type": "stream",
          "text": [
            "Train len:  111\n",
            "Val len:  38\n",
            "Test len:  10\n"
          ]
        }
      ],
      "source": [
        "from sklearn.model_selection import train_test_split\n",
        "\n",
        "# Load the preprocessed dataset\n",
        "dataset = pd.read_csv(\"preprocessed_dataset.csv\")\n",
        "\n",
        "# Assuming you have text_messages and department_labels arrays\n",
        "text_messages = dataset[\"Message\"]\n",
        "department_labels = dataset[\"Departement\"]\n",
        "\n",
        "# Convert department labels to numerical format\n",
        "label_map = {label: index for index, label in enumerate(set(department_labels))}\n",
        "numerical_labels = [label_map[label] for label in department_labels]\n",
        "\n",
        "# Split dataset into training, validation, and test sets\n",
        "train_text, temp_text, train_labels, temp_labels = train_test_split(\n",
        "    text_messages, numerical_labels, test_size=0.3, random_state=42\n",
        ")\n",
        "val_text, test_text, val_labels, test_labels = train_test_split(\n",
        "    temp_text, temp_labels, test_size=0.2, random_state=42\n",
        ")\n",
        "\n",
        "# Create TensorFlow datasets\n",
        "train_dataset = tf.data.Dataset.from_tensor_slices((train_text, train_labels))\n",
        "val_dataset = tf.data.Dataset.from_tensor_slices((val_text, val_labels))\n",
        "test_dataset = tf.data.Dataset.from_tensor_slices((test_text, test_labels))\n",
        "\n",
        "print(\"Train len: \", len(train_text))\n",
        "print(\"Val len: \", len(val_text))\n",
        "print(\"Test len: \", len(test_text))"
      ]
    },
    {
      "cell_type": "code",
      "execution_count": 133,
      "metadata": {
        "colab": {
          "base_uri": "https://localhost:8080/"
        },
        "id": "UESCP3XB-eUJ",
        "outputId": "9b1d7929-fd2d-458c-f710-95166d591f2d"
      },
      "outputs": [
        {
          "name": "stdout",
          "output_type": "stream",
          "text": [
            "text:  b'pak kepareng matur mbok tulung pikiraken dalan wonosobo watumalang dalan kecamatan rekoso kok puluhan taun nganti pengen pindah provinsi sayang mboten saget'\n",
            "label:  0\n",
            "text:  b'jalan rusak parah di jalan utama jl kabupaten penghubung desa kaligowong wonosobo dengan desa pecekelan kabupaten kebumen mohon ditindaklanjuti pak sangat ingin jalan yang layak sudah hampir th lebih jalan rusak parah banget '\n",
            "label:  0\n",
            "text:  b'alamat kabupaten kota jakarta selatan kecamatan tebet kelurahan menteng dalam laporan asslamuallaikum pak ganjar perkenalkan nama saya vioranda raditya herkaputra ijin pak saya habis menonton cuplikan bapak terkait x jam akan ada respon apabila terjadi ketidakadilan pak ijin pak mobil saya dibawa lari oleh warga bapak di wonosobo atas nama anang sugiarto yang merupakan adik dari kepala desa sapuran wonosobo sejak tahun lalu saya mencoba melapor ke polres wonosobo tetapi tidak ada respon pak sudah beberapa kali bolak balik polres tapi terkesan tidak ada hasil sehingga di tahun saya melapor ke polda jateng dan ditanggapi pak dan diterima namun sampai saat ini blm ada tindak lanjut lagi sudah berjalan bulan dan saya akhirnya tau bahwa pelaku merupakan sindikat jual beli mobil bodong pak skali lagi mohon maaf pak ini adalah proses ikhtiar saya saya sudah mempersiapkan utk memviralkan ini karena korban sudah puluhan ada yg sudah dipenjara ibu ibu di semarang karena kena hukum fidusia kalau saya alhamdulillah bisa mengbil bpkb pak mohon ditindaklanjuti pak tolong kami saya bisa menjelaskan secara detail pak mohon maaf apabila ada kata yg kurang tepat karena kelemaham dr wa pak matur suwun '\n",
            "label:  1\n"
          ]
        },
        {
          "name": "stderr",
          "output_type": "stream",
          "text": [
            "2024-04-09 00:39:33.225676: W tensorflow/core/data/root_dataset.cc:200] Optimization loop failed: CANCELLED: Operation was cancelled\n"
          ]
        }
      ],
      "source": [
        "for example, label in train_dataset.take(3):\n",
        "    print(\"text: \", example.numpy())\n",
        "    print(\"label: \", label.numpy())"
      ]
    },
    {
      "cell_type": "code",
      "execution_count": 134,
      "metadata": {
        "id": "HEAC2Y8d-xqv"
      },
      "outputs": [],
      "source": [
        "BUFFER_SIZE = 10000\n",
        "BATCH_SIZE = 64\n",
        "\n",
        "train_dataset = (\n",
        "    train_dataset.shuffle(BUFFER_SIZE).batch(BATCH_SIZE).prefetch(tf.data.AUTOTUNE)\n",
        ")\n",
        "val_dataset = val_dataset.batch(BATCH_SIZE).prefetch(tf.data.AUTOTUNE)\n",
        "test_dataset = test_dataset.batch(BATCH_SIZE).prefetch(tf.data.AUTOTUNE)"
      ]
    },
    {
      "cell_type": "code",
      "execution_count": 135,
      "metadata": {
        "colab": {
          "base_uri": "https://localhost:8080/"
        },
        "id": "7rlMsWmu_IHi",
        "outputId": "9cc67286-d4ad-4dd0-eb8d-7c2e390d190e"
      },
      "outputs": [
        {
          "name": "stdout",
          "output_type": "stream",
          "text": [
            "texts:  [b'nten info pak ganjarpranowo jarene mpun thn kondisi bgitu tpatnya kab wonosobo kec kaliwiro mhon di anu pak matur nuwun '\n",
            " b'assalamualaikum selamat malam bapak ganjar saya mau mengadu sekaligus melapor saya tinggal di wonosobo tepatnya di jaraksari laporan saya mengenai virus covid di wonosobo saya minta tolong sama bapak di wonosobo kususnya diberi peraturan yg sangat tegas jngn cuma tegas mengenai kasus covid di wonosobo lockdown semua swalayan dan toko di wonosobo beri sanksi tegas bagi pelanggar semakin hari penderita covid semakin bertambah swalayn toko besar semakin ramai jika tidak ada tindakan khusus kasus covid di wonosobo akan semakin meningkat terimaksih'\n",
            " b'assamu alaikum pak gubernur ganjar pranowo yg terhormat pak ijin bertanya kenapa biaya perpanjang sim c di kab wonosobo adalah sebesar rp ya padahal tarif perpanjangan sim sudah tertera pada peraturan pemerintah nomor tahun yaitu untuk sim c atau pengguna sepeda motor akan dikenakan biaya rp ditambahan cek kesehatan sebesar rp dan asuransi rp jika dihitung keseluruhan biaya total rp untuk perpanjangan sim c mohon dijawab dan ditindak lanjuti terimakasih ']\n",
            "\n",
            "labels:  [0 1 1]\n"
          ]
        }
      ],
      "source": [
        "for example, label in train_dataset.take(1):\n",
        "    print(\"texts: \", example.numpy()[:3])\n",
        "    print()\n",
        "    print(\"labels: \", label.numpy()[:3])"
      ]
    },
    {
      "cell_type": "code",
      "execution_count": 136,
      "metadata": {
        "id": "PrAUfFF6_YkT"
      },
      "outputs": [],
      "source": [
        "VOCAB_SIZE = 1000\n",
        "encoder = tf.keras.layers.TextVectorization(max_tokens=VOCAB_SIZE)\n",
        "encoder.adapt(train_dataset.map(lambda text, label: text))"
      ]
    },
    {
      "cell_type": "code",
      "execution_count": 137,
      "metadata": {
        "colab": {
          "base_uri": "https://localhost:8080/"
        },
        "id": "xtEOHyw7_b67",
        "outputId": "bed0f42c-f060-4427-b073-17e15194e506"
      },
      "outputs": [
        {
          "data": {
            "text/plain": [
              "array(['', '[UNK]', 'saya', 'di', 'pak', 'dan', 'wonosobo', 'ada',\n",
              "       'jalan', 'yg', 'tidak', 'yang', 'mohon', 'untuk', 'sudah', 'ke',\n",
              "       'ini', 'dari', 'karena', 'biaya'], dtype='<U15')"
            ]
          },
          "execution_count": 137,
          "metadata": {},
          "output_type": "execute_result"
        }
      ],
      "source": [
        "vocab = np.array(encoder.get_vocabulary())\n",
        "vocab[:20]"
      ]
    },
    {
      "cell_type": "code",
      "execution_count": 138,
      "metadata": {
        "colab": {
          "base_uri": "https://localhost:8080/"
        },
        "id": "GXYHYR89_txA",
        "outputId": "e98429c0-41fb-4e07-cc2d-07a4ef183d1b"
      },
      "outputs": [
        {
          "data": {
            "text/plain": [
              "array([[  1, 343,   4, 486,   1,   1, 535, 221, 805, 902, 127,   6, 181,\n",
              "        184,   1,   3,   1,   4, 215, 257,   0,   0,   0,   0,   0,   0,\n",
              "          0,   0,   0,   0,   0,   0,   0,   0,   0,   0,   0,   0,   0,\n",
              "          0,   0,   0,   0,   0,   0,   0,   0,   0,   0,   0,   0,   0,\n",
              "          0,   0,   0,   0,   0,   0,   0,   0,   0,   0,   0,   0,   0,\n",
              "          0,   0,   0,   0,   0,   0,   0,   0,   0,   0,   0,   0,   0,\n",
              "          0,   0,   0,   0,   0,   0,   0,   0,   0,   0,   0,   0,   0,\n",
              "          0,   0,   0,   0,   0,   0,   0,   0,   0,   0,   0,   0,   0,\n",
              "          0,   0,   0,   0,   0,   0,   0,   0,   0,   0,   0,   0,   0,\n",
              "          0,   0,   0,   0,   0,   0,   0,   0,   0,   0,   0,   0,   0,\n",
              "          0,   0,   0,   0,   0,   0,   0,   0,   0,   0,   0,   0,   0,\n",
              "          0,   0,   0,   0,   0,   0,   0,   0,   0,   0,   0,   0,   0,\n",
              "          0,   0,   0,   0,   0,   0,   0,   0,   0,   0,   0,   0,   0,\n",
              "          0,   0,   0,   0,   0,   0,   0,   0,   0,   0,   0,   0,   0,\n",
              "          0,   0,   0,   0,   0,   0,   0,   0,   0,   0,   0,   0,   0,\n",
              "          0,   0,   0,   0,   0,   0,   0,   0,   0,   0,   0,   0,   0,\n",
              "          0,   0,   0,   0,   0,   0,   0],\n",
              "       [133, 141, 447,  33,  24,   2,  23, 682, 581, 175,   2, 534,   3,\n",
              "          6, 197,   3,   1,  42,   2, 260, 290,  41,   3,   6,   2, 173,\n",
              "         28, 145,  33,   3,   6,   1, 354, 623,   9,  54, 384,   1, 114,\n",
              "        384, 260, 467,  41,   3,   6,   1,  63, 967,   5, 195,   3,   6,\n",
              "          1,   1, 384, 513, 422, 101,  31,   1,  41, 101,   1, 966, 195,\n",
              "        131, 101,   1, 109,  10,   7, 911, 459, 467,  41,   3,   6,  44,\n",
              "        101,   1, 932,   0,   0,   0,   0,   0,   0,   0,   0,   0,   0,\n",
              "          0,   0,   0,   0,   0,   0,   0,   0,   0,   0,   0,   0,   0,\n",
              "          0,   0,   0,   0,   0,   0,   0,   0,   0,   0,   0,   0,   0,\n",
              "          0,   0,   0,   0,   0,   0,   0,   0,   0,   0,   0,   0,   0,\n",
              "          0,   0,   0,   0,   0,   0,   0,   0,   0,   0,   0,   0,   0,\n",
              "          0,   0,   0,   0,   0,   0,   0,   0,   0,   0,   0,   0,   0,\n",
              "          0,   0,   0,   0,   0,   0,   0,   0,   0,   0,   0,   0,   0,\n",
              "          0,   0,   0,   0,   0,   0,   0,   0,   0,   0,   0,   0,   0,\n",
              "          0,   0,   0,   0,   0,   0,   0,   0,   0,   0,   0,   0,   0,\n",
              "          0,   0,   0,   0,   0,   0,   0,   0,   0,   0,   0,   0,   0,\n",
              "          0,   0,   0,   0,   0,   0,   0],\n",
              "       [  1, 369,   4,  47,  24, 146,   9, 242,   4, 185, 504, 462,  19,\n",
              "          1,  78, 189,   3, 127,   6, 235, 250, 205, 134,  73, 947, 318,\n",
              "         78,  14, 921,  51, 623, 171, 651,  49, 288,  13,  78, 189,  40,\n",
              "        210, 201,  95,  44, 778,  19, 205,   1, 231, 179, 250, 205,   5,\n",
              "          1, 205, 109,   1,   1,  19, 293, 205,  13, 318,  78, 189,  12,\n",
              "        492,   5, 352, 105,  61,   0,   0,   0,   0,   0,   0,   0,   0,\n",
              "          0,   0,   0,   0,   0,   0,   0,   0,   0,   0,   0,   0,   0,\n",
              "          0,   0,   0,   0,   0,   0,   0,   0,   0,   0,   0,   0,   0,\n",
              "          0,   0,   0,   0,   0,   0,   0,   0,   0,   0,   0,   0,   0,\n",
              "          0,   0,   0,   0,   0,   0,   0,   0,   0,   0,   0,   0,   0,\n",
              "          0,   0,   0,   0,   0,   0,   0,   0,   0,   0,   0,   0,   0,\n",
              "          0,   0,   0,   0,   0,   0,   0,   0,   0,   0,   0,   0,   0,\n",
              "          0,   0,   0,   0,   0,   0,   0,   0,   0,   0,   0,   0,   0,\n",
              "          0,   0,   0,   0,   0,   0,   0,   0,   0,   0,   0,   0,   0,\n",
              "          0,   0,   0,   0,   0,   0,   0,   0,   0,   0,   0,   0,   0,\n",
              "          0,   0,   0,   0,   0,   0,   0,   0,   0,   0,   0,   0,   0,\n",
              "          0,   0,   0,   0,   0,   0,   0]])"
            ]
          },
          "execution_count": 138,
          "metadata": {},
          "output_type": "execute_result"
        }
      ],
      "source": [
        "encoded_example = encoder(example)[:3].numpy()\n",
        "encoded_example"
      ]
    },
    {
      "cell_type": "code",
      "execution_count": 139,
      "metadata": {
        "colab": {
          "base_uri": "https://localhost:8080/"
        },
        "id": "igWu4vQw_1iE",
        "outputId": "549c01ce-90b8-451d-98ab-6998bc27c4bb"
      },
      "outputs": [
        {
          "name": "stdout",
          "output_type": "stream",
          "text": [
            "Original:  b'nten info pak ganjarpranowo jarene mpun thn kondisi bgitu tpatnya kab wonosobo kec kaliwiro mhon di anu pak matur nuwun '\n",
            "Round-trip:  [UNK] info pak ganjarpranowo [UNK] [UNK] thn kondisi bgitu tpatnya kab wonosobo kec kaliwiro [UNK] di [UNK] pak matur nuwun                                                                                                                                                                                                   \n",
            "\n",
            "Original:  b'assalamualaikum selamat malam bapak ganjar saya mau mengadu sekaligus melapor saya tinggal di wonosobo tepatnya di jaraksari laporan saya mengenai virus covid di wonosobo saya minta tolong sama bapak di wonosobo kususnya diberi peraturan yg sangat tegas jngn cuma tegas mengenai kasus covid di wonosobo lockdown semua swalayan dan toko di wonosobo beri sanksi tegas bagi pelanggar semakin hari penderita covid semakin bertambah swalayn toko besar semakin ramai jika tidak ada tindakan khusus kasus covid di wonosobo akan semakin meningkat terimaksih'\n",
            "Round-trip:  assalamualaikum selamat malam bapak ganjar saya mau mengadu sekaligus melapor saya tinggal di wonosobo tepatnya di [UNK] laporan saya mengenai virus covid di wonosobo saya minta tolong sama bapak di wonosobo [UNK] diberi peraturan yg sangat tegas [UNK] cuma tegas mengenai kasus covid di wonosobo [UNK] semua swalayan dan toko di wonosobo [UNK] [UNK] tegas bagi pelanggar semakin hari [UNK] covid semakin [UNK] swalayn toko besar semakin [UNK] jika tidak ada tindakan khusus kasus covid di wonosobo akan semakin [UNK] terimaksih                                                                                                                                      \n",
            "\n",
            "Original:  b'assamu alaikum pak gubernur ganjar pranowo yg terhormat pak ijin bertanya kenapa biaya perpanjang sim c di kab wonosobo adalah sebesar rp ya padahal tarif perpanjangan sim sudah tertera pada peraturan pemerintah nomor tahun yaitu untuk sim c atau pengguna sepeda motor akan dikenakan biaya rp ditambahan cek kesehatan sebesar rp dan asuransi rp jika dihitung keseluruhan biaya total rp untuk perpanjangan sim c mohon dijawab dan ditindak lanjuti terimakasih '\n",
            "Round-trip:  [UNK] alaikum pak gubernur ganjar pranowo yg terhormat pak ijin bertanya kenapa biaya [UNK] sim c di kab wonosobo adalah sebesar rp ya padahal tarif perpanjangan sim sudah tertera pada peraturan pemerintah nomor tahun yaitu untuk sim c atau pengguna sepeda motor akan dikenakan biaya rp [UNK] cek kesehatan sebesar rp dan [UNK] rp jika [UNK] [UNK] biaya total rp untuk perpanjangan sim c mohon dijawab dan ditindak lanjuti terimakasih                                                                                                                                                 \n",
            "\n"
          ]
        }
      ],
      "source": [
        "for n in range(3):\n",
        "    print(\"Original: \", example[n].numpy())\n",
        "    print(\"Round-trip: \", \" \".join(vocab[encoded_example[n]]))\n",
        "    print()"
      ]
    },
    {
      "cell_type": "code",
      "execution_count": 140,
      "metadata": {
        "colab": {
          "base_uri": "https://localhost:8080/"
        },
        "id": "uf34CrA6AbK0",
        "outputId": "402a0528-1e12-4ff0-f703-2b29f9dd3173"
      },
      "outputs": [
        {
          "name": "stdout",
          "output_type": "stream",
          "text": [
            "Train len:  111\n",
            "Val len:  38\n",
            "Test len:  10\n",
            "Steps per epoch: 1\n",
            "Validation steps: 0\n"
          ]
        }
      ],
      "source": [
        "total_train_samples = len(train_text)\n",
        "total_val_samples = len(val_text)\n",
        "\n",
        "# Calculate the number of epochs\n",
        "# Assuming each epoch goes through the entire training dataset\n",
        "num_epochs = 10\n",
        "\n",
        "# Calculate steps per epoch\n",
        "# Steps per epoch should be total_train_samples divided by batch size\n",
        "steps_per_epoch = total_train_samples // BATCH_SIZE\n",
        "\n",
        "# Calculate validation steps\n",
        "# Validation steps should be total_val_samples divided by batch size\n",
        "validation_steps = total_val_samples // BATCH_SIZE\n",
        "\n",
        "print(\"Train len: \", len(train_text))\n",
        "print(\"Val len: \", len(val_text))\n",
        "print(\"Test len: \", len(test_text))\n",
        "print(\"Steps per epoch:\", steps_per_epoch)\n",
        "print(\"Validation steps:\", validation_steps)"
      ]
    },
    {
      "cell_type": "code",
      "execution_count": 141,
      "metadata": {
        "id": "BL2XatdSAWLr"
      },
      "outputs": [],
      "source": [
        "model = tf.keras.Sequential(\n",
        "    [\n",
        "        encoder,\n",
        "        tf.keras.layers.Embedding(\n",
        "            input_dim=len(encoder.get_vocabulary()),\n",
        "            output_dim=64,\n",
        "            # Use masking to handle the variable sequence lengths\n",
        "            mask_zero=True,\n",
        "        ),\n",
        "        tf.keras.layers.Bidirectional(tf.keras.layers.LSTM(64)),\n",
        "        tf.keras.layers.Dense(64, activation=\"relu\"),\n",
        "        tf.keras.layers.Dense(len(label_map), activation=\"softmax\"),\n",
        "    ]\n",
        ")"
      ]
    },
    {
      "cell_type": "code",
      "execution_count": 142,
      "metadata": {
        "colab": {
          "base_uri": "https://localhost:8080/"
        },
        "id": "Sk6eIeWNAh-i",
        "outputId": "3df50cca-f4b1-41ef-e0bb-e75be953ddc5"
      },
      "outputs": [
        {
          "name": "stdout",
          "output_type": "stream",
          "text": [
            "Epoch 1/15\n",
            "2/2 [==============================] - 43s 15s/step - loss: 1.0938 - accuracy: 0.4775 - val_loss: 1.0784 - val_accuracy: 0.6316\n",
            "Epoch 2/15\n",
            "2/2 [==============================] - 3s 2s/step - loss: 1.0799 - accuracy: 0.4955 - val_loss: 1.0591 - val_accuracy: 0.6316\n",
            "Epoch 3/15\n",
            "2/2 [==============================] - 5s 3s/step - loss: 1.0637 - accuracy: 0.4955 - val_loss: 1.0341 - val_accuracy: 0.6316\n",
            "Epoch 4/15\n",
            "2/2 [==============================] - 4s 1s/step - loss: 1.0431 - accuracy: 0.4955 - val_loss: 0.9995 - val_accuracy: 0.6316\n",
            "Epoch 5/15\n",
            "2/2 [==============================] - 4s 1s/step - loss: 1.0141 - accuracy: 0.4955 - val_loss: 0.9559 - val_accuracy: 0.6316\n",
            "Epoch 6/15\n",
            "2/2 [==============================] - 4s 2s/step - loss: 0.9815 - accuracy: 0.4955 - val_loss: 0.9217 - val_accuracy: 0.6316\n",
            "Epoch 7/15\n",
            "2/2 [==============================] - 4s 1s/step - loss: 0.9550 - accuracy: 0.4955 - val_loss: 0.9059 - val_accuracy: 0.6316\n",
            "Epoch 8/15\n",
            "2/2 [==============================] - 4s 1s/step - loss: 0.9107 - accuracy: 0.4955 - val_loss: 0.8827 - val_accuracy: 0.6316\n",
            "Epoch 9/15\n",
            "2/2 [==============================] - 4s 1s/step - loss: 0.8553 - accuracy: 0.4955 - val_loss: 0.8473 - val_accuracy: 0.6316\n",
            "Epoch 10/15\n",
            "2/2 [==============================] - 4s 2s/step - loss: 0.7777 - accuracy: 0.5405 - val_loss: 0.7886 - val_accuracy: 0.6316\n",
            "Epoch 11/15\n",
            "2/2 [==============================] - 4s 2s/step - loss: 0.6787 - accuracy: 0.6667 - val_loss: 0.7124 - val_accuracy: 0.6579\n",
            "Epoch 12/15\n",
            "2/2 [==============================] - 4s 1s/step - loss: 0.5834 - accuracy: 0.7568 - val_loss: 0.6124 - val_accuracy: 0.6579\n",
            "Epoch 13/15\n",
            "2/2 [==============================] - 3s 1s/step - loss: 0.5838 - accuracy: 0.8108 - val_loss: 0.7317 - val_accuracy: 0.7105\n",
            "Epoch 14/15\n",
            "2/2 [==============================] - 3s 2s/step - loss: 0.5383 - accuracy: 0.8018 - val_loss: 0.6632 - val_accuracy: 0.7368\n",
            "Epoch 15/15\n",
            "2/2 [==============================] - 4s 3s/step - loss: 0.4909 - accuracy: 0.7838 - val_loss: 0.4903 - val_accuracy: 0.7105\n"
          ]
        }
      ],
      "source": [
        "model.compile(\n",
        "    loss=\"sparse_categorical_crossentropy\", optimizer=\"Adam\", metrics=[\"accuracy\"]\n",
        ")\n",
        "\n",
        "history = model.fit(\n",
        "    train_dataset,\n",
        "    epochs=15,\n",
        "    validation_data=val_dataset,\n",
        "    # validation_steps=1\n",
        ")"
      ]
    },
    {
      "cell_type": "code",
      "execution_count": 143,
      "metadata": {
        "colab": {
          "base_uri": "https://localhost:8080/",
          "height": 498
        },
        "id": "Jr_565r-GPC3",
        "outputId": "b069b60f-3f54-4c94-9475-a3883b71000f"
      },
      "outputs": [
        {
          "data": {
            "image/png": "[encoded data removed]",
            "text/plain": [
              "<Figure size 1600x600 with 2 Axes>"
            ]
          },
          "metadata": {},
          "output_type": "display_data"
        }
      ],
      "source": [
        "import matplotlib.pyplot as plt\n",
        "\n",
        "\n",
        "def plot_graphs(history, metric):\n",
        "    plt.plot(history.history[metric])\n",
        "    plt.plot(history.history[\"val_\" + metric], \"\")\n",
        "    plt.xlabel(\"Epochs\")\n",
        "    plt.ylabel(metric)\n",
        "    plt.legend([metric, \"val_\" + metric])\n",
        "\n",
        "\n",
        "plt.figure(figsize=(16, 6))\n",
        "plt.subplot(1, 2, 1)\n",
        "plot_graphs(history, \"accuracy\")\n",
        "plt.subplot(1, 2, 2)\n",
        "plot_graphs(history, \"loss\")"
      ]
    },
    {
      "cell_type": "code",
      "execution_count": 144,
      "metadata": {
        "colab": {
          "base_uri": "https://localhost:8080/"
        },
        "id": "zBkiUwLsL-X5",
        "outputId": "2d003448-e124-404c-991b-f042e1495154"
      },
      "outputs": [
        {
          "name": "stdout",
          "output_type": "stream",
          "text": [
            "1/1 [==============================] - 0s 70ms/step - loss: 0.5136 - accuracy: 0.8000\n",
            "Test Loss: 0.5135908126831055\n",
            "Test Accuracy: 0.800000011920929\n"
          ]
        }
      ],
      "source": [
        "test_loss, test_acc = model.evaluate(test_dataset)\n",
        "\n",
        "print(\"Test Loss:\", test_loss)\n",
        "print(\"Test Accuracy:\", test_acc)"
      ]
    },
    {
      "cell_type": "code",
      "execution_count": 145,
      "metadata": {},
      "outputs": [
        {
          "name": "stdout",
          "output_type": "stream",
          "text": [
            "Text: perempatan kretek wonosobo macet terus pak ganjar pranowo ada pos polisi tapi g ada yg jaga mohon solusinya\n",
            "True Label: 2\n",
            "Predicted Label: 1\n",
            "Class Probabilities:\n",
            "0.46233490109443665 dinas pekerjaan umum\n",
            "0.27075985074043274 kepolisian daerah jawa tengah\n",
            "0.2669052481651306 dinas kesehatan\n",
            "\n",
            "Text: jalan rusak parah yang menuju desa kepyar gumiwang tolong diperbaiki kasihan ibu hamil kendaraan yang melintas maaf saya ga bisa kirim gambar karna saya dijakarta\n",
            "True Label: 1\n",
            "Predicted Label: 1\n",
            "Class Probabilities:\n",
            "0.5666748285293579 dinas pekerjaan umum\n",
            "0.2172018140554428 kepolisian daerah jawa tengah\n",
            "0.21612337231636047 dinas kesehatan\n",
            "\n",
            "Text: jalan provinsi yg menghuhungkan parakan wonosobo yg sudah bulan macet km setiap sore hari karena jembatan rusak tidak ada perbaikan coba dikunjungi pak ganjar pranowo\n",
            "True Label: 1\n",
            "Predicted Label: 1\n",
            "Class Probabilities:\n",
            "0.5761000514030457 dinas pekerjaan umum\n",
            "0.2119508534669876 kepolisian daerah jawa tengah\n",
            "0.21194913983345032 dinas kesehatan\n",
            "\n",
            "Text: saya mau verifikasi atas laporan saya pada hari sabtu tgl kepada gub jateng atas semua laporan saya mengenai semua biaya pengurusan surat keterangan kecelakaan di sat lantas purworejo bahwasanya terjadi kesalahpahaman antara saya dengan pihak sat lantas polres purworejo saya pribadi minta maaf yg sedalam dalamnya atas kesalahpahaman masalah tersebut dan saya mengucapakan banyak terimakasih atas bantuannya selama ini kepada saudara saya \n",
            "True Label: 2\n",
            "Predicted Label: 2\n",
            "Class Probabilities:\n",
            "0.268522709608078 dinas pekerjaan umum\n",
            "0.40095070004463196 kepolisian daerah jawa tengah\n",
            "0.33052656054496765 dinas kesehatan\n",
            "\n",
            "Text: bapak jalur tengah kepil kertek arah wonosobo muntilan jg lumayan banyak lobang jalur selatan purworejo petanahan kok ga beres nggih \n",
            "True Label: 1\n",
            "Predicted Label: 1\n",
            "Class Probabilities:\n",
            "0.5730143189430237 dinas pekerjaan umum\n",
            "0.2136218547821045 kepolisian daerah jawa tengah\n",
            "0.21336375176906586 dinas kesehatan\n",
            "\n",
            "Text: jalur atau jln dieng tepatnya ds tieng pas akhir pekan atau hari libur sering macet mohon untuk solusinya krn jln ciut perlu dilebarkan trims\n",
            "True Label: 1\n",
            "Predicted Label: 1\n",
            "Class Probabilities:\n",
            "0.5757153630256653 dinas pekerjaan umum\n",
            "0.21215353906154633 kepolisian daerah jawa tengah\n",
            "0.2121310830116272 dinas kesehatan\n",
            "\n",
            "Text: assalamualaikum pak ganjar trimakasih jalan kertek kota wnosobo udah di benahi dan di aspal bagus\n",
            "True Label: 1\n",
            "Predicted Label: 1\n",
            "Class Probabilities:\n",
            "0.3959152400493622 dinas pekerjaan umum\n",
            "0.3071339428424835 kepolisian daerah jawa tengah\n",
            "0.2969507873058319 dinas kesehatan\n",
            "\n",
            "Text: pak banyak jalan rusak di sepanjang jalan kertek sapuran wonosobo \n",
            "True Label: 1\n",
            "Predicted Label: 1\n",
            "Class Probabilities:\n",
            "0.5698040127754211 dinas pekerjaan umum\n",
            "0.21532657742500305 kepolisian daerah jawa tengah\n",
            "0.2148694545030594 dinas kesehatan\n",
            "\n",
            "Text: assalamualaikum pak gub mau tanya apakah data covid di website corona jatengprov go id sama corono wonosobokab go id itu memang berbeda ya datanya saya liat data di corona jatengprov go id untuk wonosobo jumlah kasus tdk sampai an sedangkan website kabupaten yaitu di corona wonosobokab go id sampai an lebih mohon penjelasaanya bila perlu mohon di lakukan sidak ke beberapa rumah sakit terima kasih \n",
            "True Label: 3\n",
            "Predicted Label: 2\n",
            "Class Probabilities:\n",
            "0.2717028260231018 dinas pekerjaan umum\n",
            "0.3995513617992401 kepolisian daerah jawa tengah\n",
            "0.3287457227706909 dinas kesehatan\n",
            "\n",
            "Text: bpkb motor saya hilang mau ngurus di polres wonosobo saya tanya biayanya sekitar apakah benar \n",
            "True Label: 2\n",
            "Predicted Label: 2\n",
            "Class Probabilities:\n",
            "0.29450827836990356 dinas pekerjaan umum\n",
            "0.3651551306247711 kepolisian daerah jawa tengah\n",
            "0.3403365910053253 dinas kesehatan\n",
            "\n"
          ]
        }
      ],
      "source": [
        "# Retrieve a batch of text messages and labels from the test set\n",
        "text_batch, label_batch = next(iter(test_dataset))\n",
        "\n",
        "# Predict labels for the text batch\n",
        "predictions = model.predict_on_batch(text_batch)\n",
        "\n",
        "# Apply softmax to convert logits to probabilities\n",
        "predictions_prob = tf.nn.softmax(predictions)\n",
        "\n",
        "# Get the predicted class indices\n",
        "predicted_class_indices = tf.argmax(predictions_prob, axis=1).numpy()\n",
        "\n",
        "# Get the class probabilities\n",
        "probabilities = predictions_prob.numpy()\n",
        "\n",
        "# Define class names if available (replace with your actual class names)\n",
        "class_names = [\n",
        "    \"dinas pekerjaan umum\",\n",
        "    \"kepolisian daerah jawa tengah\",\n",
        "    \"dinas kesehatan\",\n",
        "]  # Add your class names here\n",
        "\n",
        "# Print the results for each text message\n",
        "for i in range(len(text_batch)):\n",
        "    print(f\"Text: {text_batch[i].numpy().decode('utf-8')}\")\n",
        "    print(\n",
        "        \"True Label:\", label_batch[i].numpy() + 1\n",
        "    )  # Add 1 to match index with class label\n",
        "    print(\"Predicted Label:\", predicted_class_indices[i] + 1)\n",
        "    print(\"Class Probabilities:\")\n",
        "    for j in range(len(probabilities[i])):\n",
        "        print(f\"{probabilities[i][j]} {class_names[j]}\")\n",
        "    print()"
      ]
    },
    {
      "cell_type": "code",
      "execution_count": 146,
      "metadata": {
        "colab": {
          "base_uri": "https://localhost:8080/"
        },
        "id": "5-O-gR6cQX42",
        "outputId": "2104816c-dc68-4d6d-cf0e-f419b8fd2e90"
      },
      "outputs": [
        {
          "name": "stdout",
          "output_type": "stream",
          "text": [
            "[[0.2112273  0.43140593 0.35736674]]\n",
            "Probability: 0.43140593\n",
            "Numeric label 1 is: kepolisian daerah jawa tengah\n"
          ]
        }
      ],
      "source": [
        "sample_text = (\n",
        "    \"Text: bpkb motor saya hilang mau ngurus di polres wonosobo saya tanya biayanya sekitar apakah benar \"\n",
        ")\n",
        "predictions = model.predict(np.array([sample_text]))\n",
        "print(predictions)\n",
        "# print(label_map)\n",
        "\n",
        "# Get the predicted label with the highest probability\n",
        "predicted_label_index = np.argmax(predictions)\n",
        "\n",
        "print(\"Probability:\", predictions[0][predicted_label_index])\n",
        "\n",
        "\n",
        "# Function to get the key from a given value\n",
        "def get_key_from_value(dictionary, value):\n",
        "    for key, val in dictionary.items():\n",
        "        if val == value:\n",
        "            return key\n",
        "    return None  # If value is not found in the dictionary\n",
        "\n",
        "\n",
        "# Example usage\n",
        "value_to_find = np.argmax(predictions)\n",
        "key_for_value = get_key_from_value(label_map, value_to_find)\n",
        "if key_for_value is not None:\n",
        "    print(\"Numeric label\", value_to_find, \"is:\", key_for_value)\n",
        "else:\n",
        "    print(\"Value\", value_to_find, \"not found in the dictionary.\")"
      ]
    },
    {
      "cell_type": "code",
      "execution_count": 147,
      "metadata": {},
      "outputs": [
        {
          "name": "stdout",
          "output_type": "stream",
          "text": [
            "{'dinas pekerjaan umum bina marga cipta karya': 0, 'kepolisian daerah jawa tengah': 1, 'dinas kesehatan': 2}\n"
          ]
        }
      ],
      "source": [
        "print(label_map)"
      ]
    },
    {
      "cell_type": "code",
      "execution_count": 160,
      "metadata": {},
      "outputs": [],
      "source": [
        "# Assuming you have a TextVectorization layer named 'encoder' and a model defined\n",
        "\n",
        "# Set up a logs directory, so Tensorboard knows where to look for files.\n",
        "log_dir = \"/home/abdan/Desktop/Skripsi/[KODE] Tensorflow RNN/logs\"\n",
        "if not os.path.exists(log_dir):\n",
        "    os.makedirs(log_dir)\n",
        "\n",
        "# Save Labels separately on a line-by-line manner.\n",
        "with open(os.path.join(log_dir, \"metadata.tsv\"), \"w\") as f:\n",
        "    # Get the vocabulary from the TextVectorization layer\n",
        "    vocabulary = encoder.get_vocabulary()\n",
        "    for word in vocabulary:\n",
        "        f.write(\"{}\\n\".format(word))\n",
        "\n",
        "# Save the weights of the Embedding layer\n",
        "embedding_weights = model.layers[1].get_weights()[0]  # Assuming the Embedding layer is the second layer in your model\n",
        "embedding_variable = tf.Variable(embedding_weights, name='embedding')\n",
        "# Create a checkpoint from embedding\n",
        "checkpoint = tf.train.Checkpoint(embedding=embedding_variable)\n",
        "checkpoint.save(os.path.join(log_dir, \"embedding.ckpt\"))\n",
        "\n",
        "\n",
        "# Set up config.\n",
        "config = projector.ProjectorConfig()\n",
        "embedding = config.embeddings.add()\n",
        "# The name of the tensor will be suffixed by `/.ATTRIBUTES/VARIABLE_VALUE`.\n",
        "embedding.tensor_name = \"embedding/.ATTRIBUTES/VARIABLE_VALUE\"\n",
        "embedding.metadata_path = \"metadata.tsv\"  # Update to just \"metadata.tsv\"\n",
        "projector.visualize_embeddings(log_dir, config)\n"
      ]
    },
    {
      "cell_type": "code",
      "execution_count": 161,
      "metadata": {},
      "outputs": [
        {
          "data": {
            "text/plain": [
              "Reusing TensorBoard on port 6006 (pid 98557), started 0:02:59 ago. (Use '!kill 98557' to kill it.)"
            ]
          },
          "metadata": {},
          "output_type": "display_data"
        },
        {
          "data": {
            "text/html": [
              "\n",
              "      <iframe id=\"tensorboard-frame-a97e2d07121aee6\" width=\"100%\" height=\"800\" frameborder=\"0\">\n",
              "      </iframe>\n",
              "      <script>\n",
              "        (function() {\n",
              "          const frame = document.getElementById(\"tensorboard-frame-a97e2d07121aee6\");\n",
              "          const url = new URL(\"http://localhost\");\n",
              "          const port = 6006;\n",
              "          if (port) {\n",
              "            url.port = port;\n",
              "          }\n",
              "          frame.src = url;\n",
              "        })();\n",
              "      </script>\n",
              "    "
            ],
            "text/plain": [
              "<IPython.core.display.HTML object>"
            ]
          },
          "metadata": {},
          "output_type": "display_data"
        },
        {
          "name": "stdout",
          "output_type": "stream",
          "text": [
            "Selecting TensorBoard with logdir /logs (started 0:02:59 ago; port 6006, pid 98557).\n"
          ]
        },
        {
          "data": {
            "text/html": [
              "\n",
              "      <iframe id=\"tensorboard-frame-fc0854364cb8f403\" width=\"100%\" height=\"500\" frameborder=\"0\">\n",
              "      </iframe>\n",
              "      <script>\n",
              "        (function() {\n",
              "          const frame = document.getElementById(\"tensorboard-frame-fc0854364cb8f403\");\n",
              "          const url = new URL(\"http://localhost\");\n",
              "          const port = 6006;\n",
              "          if (port) {\n",
              "            url.port = port;\n",
              "          }\n",
              "          frame.src = url;\n",
              "        })();\n",
              "      </script>\n",
              "    "
            ],
            "text/plain": [
              "<IPython.core.display.HTML object>"
            ]
          },
          "metadata": {},
          "output_type": "display_data"
        }
      ],
      "source": [
        "# Now run tensorboard against on log data we just saved.\n",
        "%tensorboard --logdir \"/logs\" --port 6006\n",
        "notebook.display(port=6006, height=500)"
      ]
    },
    {
      "cell_type": "code",
      "execution_count": 162,
      "metadata": {},
      "outputs": [
        {
          "name": "stdout",
          "output_type": "stream",
          "text": [
            "/home/abdan/Desktop/Skripsi/[KODE] Tensorflow RNN\n",
            "Known TensorBoard instances:\n",
            "  - port 6006: logdir /logs (started 0:03:22 ago; pid 98557)\n"
          ]
        }
      ],
      "source": [
        "from tensorboard import notebook\n",
        "!pwd\n",
        "# Get a list of active TensorBoard instances\n",
        "tb_list = notebook.list()\n"
      ]
    }
  ],
  "metadata": {
    "colab": {
      "provenance": []
    },
    "kernelspec": {
      "display_name": "Python 3",
      "name": "python3"
    },
    "language_info": {
      "codemirror_mode": {
        "name": "ipython",
        "version": 3
      },
      "file_extension": ".py",
      "mimetype": "text/x-python",
      "name": "python",
      "nbconvert_exporter": "python",
      "pygments_lexer": "ipython3",
      "version": "3.10.12"
    }
  },
  "nbformat": 4,
  "nbformat_minor": 0
}
