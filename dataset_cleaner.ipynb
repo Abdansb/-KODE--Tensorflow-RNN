{
 "cells": [
  {
   "cell_type": "code",
   "execution_count": 1,
   "metadata": {},
   "outputs": [
    {
     "name": "stdout",
     "output_type": "stream",
     "text": [
      "Collecting Sastrawi\n",
      "  Downloading Sastrawi-1.0.1-py2.py3-none-any.whl (209 kB)\n",
      "     |████████████████████████████████| 209 kB 639 kB/s            \n",
      "\u001b[?25hInstalling collected packages: Sastrawi\n",
      "Successfully installed Sastrawi-1.0.1\n",
      "\u001b[33mWARNING: You are using pip version 21.3.1; however, version 24.0 is available.\n",
      "You should consider upgrading via the '/home/abdan/PycharmProjects/TFexam/venv/bin/python -m pip install --upgrade pip' command.\u001b[0m\n"
     ]
    }
   ],
   "source": [
    "! pip install Sastrawi"
   ]
  },
  {
   "cell_type": "code",
   "execution_count": 1,
   "metadata": {},
   "outputs": [],
   "source": [
    "import pandas as pd\n",
    "import re\n",
    "from tqdm import tqdm\n",
    "from Sastrawi.StopWordRemover.StopWordRemoverFactory import StopWordRemoverFactory\n",
    "from Sastrawi.Stemmer.StemmerFactory import StemmerFactory"
   ]
  },
  {
   "cell_type": "code",
   "execution_count": 6,
   "metadata": {},
   "outputs": [],
   "source": [
    "# Load the dataset\n",
    "df = pd.read_csv(\"4 label.csv\")\n",
    "\n",
    "def preprocess_label(text):\n",
    "    # Convert text to lowercase\n",
    "    text = str(text).lower()\n",
    "    return text\n",
    "\n",
    "\n",
    "# Define a function to preprocess text\n",
    "def preprocess_text(text):\n",
    "    # Convert text to lowercase\n",
    "    text = str(text).lower()\n",
    "\n",
    "    # Remove special characters, numbers, and punctuation\n",
    "    text = re.sub(r\"[^a-z\\s]\", \" \", text)\n",
    "\n",
    "    # Tokenize the text\n",
    "    tokens = text.split()\n",
    "\n",
    "    # Remove stopwords\n",
    "    stopword_factory = StopWordRemoverFactory()\n",
    "    stopword_remover = stopword_factory.create_stop_word_remover()\n",
    "    tokens = [stopword_remover.remove(word) for word in tokens]\n",
    "\n",
    "    \"\"\"# Stemming\n",
    "    stemmer_factory = StemmerFactory()\n",
    "    stemmer = stemmer_factory.create_stemmer()\n",
    "    tokens = [stemmer.stem(word) for word in tokens]\"\"\"\n",
    "\n",
    "    # Join the tokens back into a single string\n",
    "    preprocessed_text = \" \".join(tokens)\n",
    "    if preprocessed_text and preprocessed_text[0].isspace():\n",
    "        preprocessed_text = preprocessed_text[1:]\n",
    "\n",
    "    preprocessed_text = re.sub(r\"\\s+\", \" \", text)\n",
    "    #print(preprocessed_text)\n",
    "    return preprocessed_text"
   ]
  },
  {
   "cell_type": "code",
   "execution_count": null,
   "metadata": {},
   "outputs": [],
   "source": [
    "#3152\n",
    "print(df['Message'][3153])"
   ]
  },
  {
   "cell_type": "code",
   "execution_count": 8,
   "metadata": {},
   "outputs": [
    {
     "name": "stderr",
     "output_type": "stream",
     "text": [
      "Preprocessing: 100%|██████████| 558/558 [00:00<00:00, 2692.30it/s]\n",
      "Preprocessing: 100%|██████████| 558/558 [00:00<00:00, 232924.13it/s]\n"
     ]
    }
   ],
   "source": [
    "tqdm.pandas(desc=\"Preprocessing\")\n",
    "df[\"Message\"] = df[\"Message\"].progress_apply(preprocess_text)\n",
    "df[\"Department\"] = df[\"Department\"].progress_apply(preprocess_label)\n",
    "\n",
    "\n",
    "# Save the preprocessed dataset to a new CSV file\n",
    "df.to_csv(\"preprocessed_dataset1.csv\", index=False)"
   ]
  },
  {
   "cell_type": "code",
   "execution_count": 56,
   "metadata": {},
   "outputs": [
    {
     "name": "stdout",
     "output_type": "stream",
     "text": [
      "kenapa kab brebes jalannya tidak pernah beres selalu berlubang dan bergelombang iri sama kota tegal yang jalan rayanya menggunakan beton untuk lapisan bawahnya dan baru diaspal dibrebes cuman asal tambal dan ganti baru juga seminggu jalan sudah rusak lagi brebes kayaknya harus ditinjau itu birokrasinya jalan lingkar brebes tegal saja dari aku berumur tahun masih belum bisa digunakan \n",
      "soal us sd mi mapel bahasa jawa tahun di kab brebes kurang memperhatikan nilai moral\n",
      "tyh bpk gubernur jawa tengah saya pns di kab brebes sedang mengambil studi magister di mpwk itb kobe university double degree saya mencoba mencari data apbd jawa tengah secara online tapi tidak tersedia di portal pemprov mohon bantuannya karena saya posisi di jepang sedang menyusun tesis terima kasih\n",
      "pak gubernur di kab brebes tepatnya di jl s parman gang i pesanggrahan brebes rumah paling ujung ada bandar judi togel yang sangat meresahkan masyarakat kelihatannya banyak bekingnya sehingga sang bandar bisa bebas aktivitas togel nya tolong diberantas habis sampai akar akarnya termasuk bekingnya kalau memang ada terima kasih\n",
      "bpk gubernur ganjar yth tolong inspeksi mendadak dilakukan di samsat bumiayu karena banyak pungli pungli kakap yang professional dari polres brebes terima kasih kejadian ini sudah cukup lama setiap bayar pajak pasti dimintai rp ribu \n",
      "pak saya hidup di brebes selama tahun tetapi jalan jalan di brebes belum pernah rusak kayak sungai apalagi di daerah sudah banyak makan korban mohon perhatiannya untuk menegur pejabat daerah \n",
      "dear pak gubernur saya warga linggapura brebes mohon kiranya jalur tengah pejagan bumiayu purwokerto ditinjau warga disana mengeluhkan truck besar yang melintas sudah overload jalan disana kecil pak hingga akibatnya terjadi kemacetan panjang yg berakibat roda perekonomian penduduk sekitar terganggu pendidikan terganggu pelayanan kesehatan terganggu sudah banyak memakan korban jiwa juga karena kecelakaan yang diakibatkan daya tampung jalan yang sudah tidak wajar mohon sidaknya segera dan mohon dicarikan jalur alternatif lain agar truck tsb tidak menumpuk di jalur desa kami \n",
      "salam indonesia jateng saya ingin menyarankan kepada instansi terkait mengenai dampak jembatan comal di jalur tengah tegal banyumas bahwa keadaan jalur tersebut telah mengalami volue kendaraan yang tidak seimbang dengan panjang jalan tersebut sehingga terjadi kemacetan di dua arah dari prupuk kab tegal purwokerto wangon bab banyumas dari kemacetan daerah tersebut mengakibatkan kebutuhan pokok sehari hari mengalami kekurangan sehingga banyak pedagang tidak berjualan karena tahu macet pedagang terjebak kemacetan pada saat berangkat anak sekolahyang dateng terlambat karena macet dan tidak ada angkutan umum dan masih banyak lain kesulitan yang dialami masyarakat terdampak kemacetan maka dari itu saya mengusulan untuk kendaraan berat dan panjang tidak melewati rute prupuk kab tegal kab banyumas mengingat kendaraan berat bisa merusak jalan ciregol kab brebes yang sebelumnya telah mengalami amblas agar tidak terulang karena menyebabkan ekonomi lumpuh kemudian kendaraan panjang jangan melewati jalan tesebut karena banyak tikungan tajam dan menanjak yang harus bergantan mungkin kemacetan saat ini terjadi karena persimpangan kendaraan panjang dan berat dan juga pada peta lapor gub akan saya beri perkiraan yang diharapkan bisa dijadikan pertimbangan untuk mengambil keputusan terima kasih atas waktu untuk membaca laporan saya berharap ada tindaklanjut nyata salam indonesia jateng \n",
      "usul terbuka rakyat kab brebes pada gubernur jateng ganjar pranowo darurat tranportasi akibat ambles jembatan comal selamatkan zona daerah milik jembatan dari beragam aktifitas eksploitasi material sungai yang akibatkan berubahnya fungsi dan struktur bangunan jembatan selamatkn daerah aliran sungai dan perbaiki pola penambangan yg akibatkan kerusakn ekosistm sungai stop kebijakan pengadaan truk bertonase tinggi dan sumbu roda banyak untuk angkutan barang dijalan raya rubah kebijakan pola angkutn barang semula mengunakan truk diganti dengan kereta api sehingga dapat perpanjang umur jalan jalan raya hanya untuk moda pengangkutn orang penumpng saja alokasi anggaran pmbangunan infrastruktur jalan dan jembatan yg lebih besar lagi untk provinsi jawa tengah yg memiliki beban tinggi pengangkutan lintas pulau jawa stop pengalihan jalur truk dng muatan berat dari pantura ke arah jalur selatan bumiayu krn tekstur jalan sempit berkelok ambles yang berakibat orang korban mati sia sia bertambah banyak dijalur selatan stop pengalihan jalur truk muatan berat dari pantura kearah selatan yang berakibat macet total sehingga kegiatan ekonomi rakyat jadi lumpuh \n",
      "bumiayu brebes menggugat macet http youtu be nytwc coxc\n"
     ]
    }
   ],
   "source": [
    "# Apply the preprocessing function to the text column\n",
    "df['cleaned_text'] = df['Message'][:10].apply(preprocess_text)\n",
    "\n",
    "# Save the preprocessed dataset to a new CSV file\n",
    "df.to_csv('preprocessed_dataset.csv', index=False)"
   ]
  },
  {
   "cell_type": "code",
   "execution_count": 5,
   "metadata": {},
   "outputs": [
    {
     "name": "stdout",
     "output_type": "stream",
     "text": [
      "0    kenapa kab brebes jalannya tidak pernah beres ...\n",
      "1    soal us sd mi mapel bahasa jawa tahun di kab b...\n",
      "2    tyh bpk gubernur jawa tengah saya pns di kab b...\n",
      "3    pak gubernur di kab brebes tepatnya di jl s pa...\n",
      "4    bpk gubernur ganjar yth tolong inspeksi mendad...\n",
      "5    pak saya hidup di brebes selama tahun tetapi j...\n",
      "6    dear pak gubernur saya warga linggapura brebes...\n",
      "7    salam indonesia jateng saya ingin menyarankan ...\n",
      "8    usul terbuka rakyat kab brebes pada gubernur j...\n",
      "9    bumiayu brebes menggugat macet http youtu be n...\n",
      "Name: Message, dtype: object\n"
     ]
    }
   ],
   "source": [
    "print(df['Message'][:10])"
   ]
  },
  {
   "cell_type": "code",
   "execution_count": null,
   "metadata": {},
   "outputs": [],
   "source": [
    "# Assuming df is your DataFrame containing the cleaned text\n",
    "for cleaned_text in df['cleaned_text']:\n",
    "    print(cleaned_text)\n"
   ]
  }
 ],
 "metadata": {
  "kernelspec": {
   "display_name": ".venv",
   "language": "python",
   "name": "python3"
  },
  "language_info": {
   "codemirror_mode": {
    "name": "ipython",
    "version": 3
   },
   "file_extension": ".py",
   "mimetype": "text/x-python",
   "name": "python",
   "nbconvert_exporter": "python",
   "pygments_lexer": "ipython3",
   "version": "3.8.18"
  }
 },
 "nbformat": 4,
 "nbformat_minor": 2
}
