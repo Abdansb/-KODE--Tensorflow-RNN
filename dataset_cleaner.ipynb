{
  "cells": [
    {
      "cell_type": "code",
      "execution_count": 1,
      "metadata": {
        "colab": {
          "base_uri": "https://localhost:8080/"
        },
        "id": "s0HptiA47_y_",
        "outputId": "16c4d562-56a2-4219-f816-697356987a1d"
      },
      "outputs": [
        {
          "name": "stdout",
          "output_type": "stream",
          "text": [
            "Collecting Sastrawi\n",
            "  Downloading Sastrawi-1.0.1-py2.py3-none-any.whl (209 kB)\n",
            "\u001b[?25l     \u001b[90m━━━━━━━━━━━━━━━━━━━━━━━━━━━━━━━━━━━━━━━━\u001b[0m \u001b[32m0.0/209.7 kB\u001b[0m \u001b[31m?\u001b[0m eta \u001b[36m-:--:--\u001b[0m\r\u001b[2K     \u001b[91m━━━━━━━━━━━\u001b[0m\u001b[91m╸\u001b[0m\u001b[90m━━━━━━━━━━━━━━━━━━━━━━━━━━━━\u001b[0m \u001b[32m61.4/209.7 kB\u001b[0m \u001b[31m1.8 MB/s\u001b[0m eta \u001b[36m0:00:01\u001b[0m\r\u001b[2K     \u001b[91m━━━━━━━━━━━━━━━━━━━━━━━━━━━━━━━━━━━━━━━\u001b[0m\u001b[90m╺\u001b[0m \u001b[32m204.8/209.7 kB\u001b[0m \u001b[31m3.5 MB/s\u001b[0m eta \u001b[36m0:00:01\u001b[0m\r\u001b[2K     \u001b[90m━━━━━━━━━━━━━━━━━━━━━━━━━━━━━━━━━━━━━━━━\u001b[0m \u001b[32m209.7/209.7 kB\u001b[0m \u001b[31m2.7 MB/s\u001b[0m eta \u001b[36m0:00:00\u001b[0m\n",
            "\u001b[?25hInstalling collected packages: Sastrawi\n",
            "Successfully installed Sastrawi-1.0.1\n"
          ]
        }
      ],
      "source": [
        "!pip install Sastrawi"
      ]
    },
    {
      "cell_type": "code",
      "execution_count": 1,
      "metadata": {
        "id": "ZyC2pCmK7_zD"
      },
      "outputs": [],
      "source": [
        "import pandas as pd\n",
        "import re\n",
        "from tqdm import tqdm\n",
        "from Sastrawi.StopWordRemover.StopWordRemoverFactory import StopWordRemoverFactory\n",
        "from Sastrawi.Stemmer.StemmerFactory import StemmerFactory"
      ]
    },
    {
      "cell_type": "code",
      "execution_count": 5,
      "metadata": {
        "colab": {
          "base_uri": "https://localhost:8080/"
        },
        "id": "bxaG-QH27_zE",
        "outputId": "4619adb5-fb85-41f9-8cc7-da8ae326cda3"
      },
      "outputs": [
        {
          "name": "stdout",
          "output_type": "stream",
          "text": [
            "22\n",
            "                                                 Message   Status  \\\n",
            "0      Kami 120 orang guru yang sudah memiliki SK tun...  Selesai   \n",
            "1      kenapa kab. brebes jalannya tidak pernah beres...  Selesai   \n",
            "2      Pak Ganjar......untuk wilayah Blora Kota saat ...  Selesai   \n",
            "3      Lapor Pak ... tolong birokrasi di Kecamatan ke...  Selesai   \n",
            "4      Pupuk Urea di Kab. Semarang langka pak Gub...t...  Selesai   \n",
            "...                                                  ...      ...   \n",
            "65953  Izin melaporkan kegiatan galian liar, Dukuh pi...  Selesai   \n",
            "65955  Selamat Pagi, Mohon perbaikan untuk jalan utam...  Selesai   \n",
            "65959  Izin melaporkan galian liar di dukuh Pilangban...  Selesai   \n",
            "65969  Lokasi aduan : ngembik lor jalan rambutan kram...  Selesai   \n",
            "65984  Tolong survei jalan provinsi Slawi-Jatinegara ...  Selesai   \n",
            "\n",
            "                                       Departement  \n",
            "0                         BADAN KEPEGAWAIAN DAERAH  \n",
            "1      DINAS PEKERJAAN UMUM BINA MARGA CIPTA KARYA  \n",
            "2             DINAS ENERGI DAN SUMBER DAYA MINERAL  \n",
            "3                         BADAN KEPEGAWAIAN DAERAH  \n",
            "4                   DINAS PERTANIAN DAN PERKEBUNAN  \n",
            "...                                            ...  \n",
            "65953         DINAS ENERGI DAN SUMBER DAYA MINERAL  \n",
            "65955  DINAS PEKERJAAN UMUM BINA MARGA CIPTA KARYA  \n",
            "65959         DINAS ENERGI DAN SUMBER DAYA MINERAL  \n",
            "65969              Kanwil BPN Provinsi Jawa Tengah  \n",
            "65984  DINAS PEKERJAAN UMUM BINA MARGA CIPTA KARYA  \n",
            "\n",
            "[26268 rows x 3 columns]\n"
          ]
        }
      ],
      "source": [
        "import pandas as pd\n",
        "\n",
        "# Load the CSV dataset into a Pandas DataFrame\n",
        "df = pd.read_csv(\"delapan juni.csv\")\n",
        "\n",
        "# Filter the DataFrame to include only rows where the ticket status is \"Selesai\"\n",
        "# and the department is one of the specific three departments\n",
        "specific_departments = [\n",
        "\"DINAS PEKERJAAN UMUM BINA MARGA CIPTA KARYA\",\n",
        "##\"Kepolisian Daerah Jawa Tengah\",\n",
        "\"DINAS ENERGI DAN SUMBER DAYA MINERAL\",\n",
        "\"DINAS PEMBERDAYAAN MASYARAKAT, DESA, KEPENDUDUKAN DAN PENCATATAN SIPIL\",\n",
        "#\"Kabupaten Demak\",\n",
        "#\"Kabupaten Grobogan\",\n",
        "\"DINAS KESEHATAN\",\n",
        "\"DINAS TENAGA KERJA DAN TRANSMIGRASI\",\n",
        "#\"Kabupaten Banyumas\",\n",
        "#\"Kabupaten Blora\",\n",
        "#\"Kabupaten Brebes\",\n",
        "\"BADAN PENGELOLA PENDAPATAN DAERAH\",\n",
        "#\"Kabupaten Kendal\",\n",
        "#\"Kabupaten Klaten\",\n",
        "#\"Kabupaten Semarang\",\n",
        "#\"Kabupaten Pati\",\n",
        "#\"Kabupaten Jepara\",\n",
        "#\"Kabupaten Boyolali\",\n",
        "\"Kanwil BPN Provinsi Jawa Tengah\",\n",
        "#\"Kabupaten Cilacap\",\n",
        "\"DINAS PERHUBUNGAN\",\n",
        "#\"Kabupaten Purworejo\",\n",
        "\"DINAS SOSIAL\",\n",
        "#\"Kabupaten Kebumen\",\n",
        "\"DINAS PENDIDIKAN DAN KEBUDAYAAN\",\n",
        "#\"Kabupaten Magelang\",\n",
        "#\"Kabupaten Sukoharjo\",\n",
        "\"DINAS PEKERJAAN UMUM SUMBER DAYA AIR DAN PENATAAN RUANG\",\n",
        "\"DINAS LINGKUNGAN HIDUP DAN KEHUTANAN\",\n",
        "\"DINAS PERUMAHAN RAKYAT DAN KAWASAN PERMUKIMAN\",\n",
        "#\"Kabupaten Purbalingga\",\n",
        "#\"Kabupaten Kudus\",\n",
        "\"DINAS PERINDUSTRIAN DAN PERDAGANGAN\",\n",
        "#\"Kabupaten Pekalongan\",\n",
        "\"BIRO PEREKONOMIAN\",\n",
        "#\"Kabupaten Sragen\",\n",
        "#\"Kabupaten Karanganyar\",\n",
        "\"BPJS Kesehatan\",\n",
        "#\"Kabupaten Wonosobo\",\n",
        "#\"Kabupaten Temanggung\",\n",
        "\"BADAN PENGHUBUNG\",\n",
        "#\"Kabupaten Rembang\",\n",
        "#\"Kabupaten Wonogiri\",\n",
        "#\"Kabupaten Batang\",\n",
        "##\"DINAS KOPERASI DAN UMKM\",\n",
        "#\"Kota Surakarta\",\n",
        "\"DINAS PERTANIAN DAN PERKEBUNAN\",\n",
        "\"BADAN PENANGGULANGAN BENCANA DAERAH\",\n",
        "#\"Kabupaten Banjarnegara\",\n",
        "\"Kanwil Kemenag Provinsi Jawa Tengah\",\n",
        "#\"Kabupaten Tegal\",\n",
        "\"BADAN KEPEGAWAIAN DAERAH\",\n",
        "##\"INSPEKTORAT\",\n",
        "##\"BIRO KESEJAHTERAAN RAKYAT\",\n",
        "#\"Kota Tegal\",\n",
        "##\"BANK JATENG\",\n",
        "##\"DINAS KEPEMUDAAN, OLAHRAGA DAN PARIWISATA\",\n",
        "#\"Kota Magelang\",\n",
        "#\"Kota Salatiga\",\n",
        "##\"BIRO UMUM\",\n",
        "#\"Balai Besar Pelaksanaan Jalan Nasional Jawa Tengah & DIY\",\n",
        "##\"DINAS KOMUNIKASI DAN INFORMATIKA\",\n",
        "##\"DINAS PETERNAKAN DAN KESEHATAN HEWAN\",\n",
        "#\"Kota Pekalongan\",\n",
        "\"BPJS Ketenagakerjaan Kanwil Jateng dan DIY\",\n",
        "##\"DINAS KELAUTAN DAN PERIKANAN\",\n",
        "##\"DINAS PENANAMAN MODAL DAN PELAYANAN TERPADU SATU PINTU\",\n",
        "]\n",
        "filtered_df = df[\n",
        "    (df[\"Status\"] == \"Selesai\") & (df[\"Departement\"].isin(specific_departments))\n",
        "]\n",
        "\n",
        "# Keep only the 'Message', 'Status', and 'Departement' columns\n",
        "filtered_df = filtered_df[[\"Message\", \"Status\", \"Departement\"]]\n",
        "\n",
        "# Save the preprocessed data to a new CSV file\n",
        "filtered_df.to_csv(\"delapan juni stemmed.csv\", index=False)\n",
        "\n",
        "# Display the preprocessed DataFrame\n",
        "print(len(specific_departments))\n",
        "print(filtered_df)"
      ]
    },
    {
      "cell_type": "code",
      "execution_count": 6,
      "metadata": {
        "id": "4xuP1w6x7_zG"
      },
      "outputs": [],
      "source": [
        "# Load the dataset\n",
        "df = pd.read_csv(\"delapan juni stemmed.csv\")\n",
        "\n",
        "\n",
        "def preprocess_label(text):\n",
        "    # Convert text to lowercase\n",
        "    text = str(text).lower()\n",
        "    return text\n",
        "\n",
        "\n",
        "# Define a function to preprocess text\n",
        "def preprocess_text(text):\n",
        "    # Convert text to lowercase\n",
        "    text = str(text).lower()\n",
        "\n",
        "    # Remove special characters, numbers, and punctuation\n",
        "    text = re.sub(r\"[^a-z\\s]\", \" \", text)\n",
        "\n",
        "    # Tokenize the text\n",
        "    tokens = text.split()\n",
        "\n",
        "    # Remove stopwords\n",
        "    stopword_factory = StopWordRemoverFactory()\n",
        "    stopword_remover = stopword_factory.create_stop_word_remover()\n",
        "    tokens = [stopword_remover.remove(word) for word in tokens]\n",
        "\n",
        "    # Stemming\n",
        "    stemmer_factory = StemmerFactory()\n",
        "    stemmer = stemmer_factory.create_stemmer()\n",
        "    #tokens = [stemmer.stem(word) for word in tokens]\n",
        "    #print(tokens)\n",
        "    # Join the tokens back into a single string\n",
        "    preprocessed_text = \" \".join(tokens)\n",
        "    preprocessed_text = stemmer.stem(preprocessed_text)\n",
        "    #if preprocessed_text and preprocessed_text[0].isspace():\n",
        "    #    preprocessed_text = preprocessed_text[1:]\n",
        "\n",
        "    preprocessed_text = re.sub(r\"\\s+\", \" \", preprocessed_text).strip()\n",
        "    #print(preprocessed_text)\n",
        "    return preprocessed_text"
      ]
    },
    {
      "cell_type": "code",
      "execution_count": 32,
      "metadata": {
        "colab": {
          "base_uri": "https://localhost:8080/"
        },
        "id": "nHIg7FAa7_zH",
        "outputId": "43973ebc-5b00-464b-b111-e833bfcd4e93"
      },
      "outputs": [
        {
          "name": "stdout",
          "output_type": "stream",
          "text": [
            "jalan propinsi lasem-sale kab.rembang rusak parah pak 1 tahun ini, aspalnya sudah pada hilang,, tolong cepat dperbaiki.. karena itu wewenang provinsi bukan kabupaten.. kabupaten tidak mau memperbaiki karena itu jalan propinsi..\n"
          ]
        }
      ],
      "source": [
        "#3152\n",
        "print(df['Message'][40])"
      ]
    },
    {
      "cell_type": "code",
      "execution_count": 7,
      "metadata": {
        "colab": {
          "base_uri": "https://localhost:8080/",
          "height": 393
        },
        "id": "6HXw9q0S7_zI",
        "outputId": "d05f23ed-4d56-4238-a47a-0c31f5d87ebc"
      },
      "outputs": [
        {
          "name": "stderr",
          "output_type": "stream",
          "text": [
            "Preprocessing: 100%|██████████| 26268/26268 [24:57:37<00:00,  3.42s/it]        \n",
            "Preprocessing: 100%|██████████| 26268/26268 [00:00<00:00, 235115.32it/s]\n"
          ]
        }
      ],
      "source": [
        "tqdm.pandas(desc=\"Preprocessing\")\n",
        "df[\"Message\"] = df[\"Message\"].progress_apply(preprocess_text)\n",
        "df[\"Departement\"] = df[\"Departement\"].progress_apply(preprocess_label)\n",
        "\n",
        "\n",
        "# Save the preprocessed dataset to a new CSV file\n",
        "df.to_csv(\"delapan juni stemmed.csv\", index=False)"
      ]
    },
    {
      "cell_type": "code",
      "execution_count": 10,
      "metadata": {
        "colab": {
          "base_uri": "https://localhost:8080/"
        },
        "id": "uwuiTdubALje",
        "outputId": "be530c4f-8ef3-44e8-c235-12565cdcf013"
      },
      "outputs": [
        {
          "name": "stdout",
          "output_type": "stream",
          "text": [
            "kenapa kab brebes jalan tidak pernah beres selalu lubang dan gelombang iri sama kota tegal yang jalan raya guna beton untuk lapis bawah dan baru aspal dibrebes cuman asal tambal dan ganti baru juga minggu jalan sudah rusak lagi brebes kayak harus tinjau itu birokrasi jalan lingkar brebes tegal saja dari aku umur tahun masih belum bisa guna\n",
            "mereka tiru\n"
          ]
        }
      ],
      "source": [
        "# import StemmerFactory class\n",
        "from Sastrawi.Stemmer.StemmerFactory import StemmerFactory\n",
        "\n",
        "# create stemmer\n",
        "factory = StemmerFactory()\n",
        "stemmer = factory.create_stemmer()\n",
        "\n",
        "# stemming process\n",
        "sentence = 'kenapa kab brebes jalannya tidak pernah beres selalu berlubang dan bergelombang iri sama kota tegal yang jalan rayanya menggunakan beton untuk lapisan bawahnya dan baru diaspal dibrebes cuman asal tambal dan ganti baru juga seminggu jalan sudah rusak lagi brebes kayaknya harus ditinjau itu birokrasinya jalan lingkar brebes tegal saja dari aku berumur tahun masih belum bisa digunakan '\n",
        "output   = stemmer.stem(sentence)\n",
        "\n",
        "print(output)\n",
        "# ekonomi indonesia sedang dalam tumbuh yang bangga\n",
        "\n",
        "print(stemmer.stem('Mereka meniru-nirukannya'))\n",
        "# mereka tiru"
      ]
    },
    {
      "cell_type": "code",
      "execution_count": null,
      "metadata": {
        "id": "jkXtMmOW7_zI"
      },
      "outputs": [],
      "source": [
        "# Apply the preprocessing function to the text column\n",
        "df['cleaned_text'] = df['Message'][:10].apply(preprocess_text)\n",
        "\n",
        "# Save the preprocessed dataset to a new CSV file\n",
        "df.to_csv('preprocessed_dataset.csv', index=False)"
      ]
    },
    {
      "cell_type": "code",
      "execution_count": null,
      "metadata": {
        "id": "nMPwuIpK7_zK",
        "outputId": "5dee6e5c-498f-4a3f-9bb3-275d920b379c"
      },
      "outputs": [
        {
          "name": "stdout",
          "output_type": "stream",
          "text": [
            "0    kami orang guru yang sudah memiliki sk tunjang...\n",
            "1    kenapa kab brebes jalannya tidak pernah beres ...\n",
            "2    pak ganjar untuk wilayah blora kota saat ini k...\n",
            "3    lapor pak tolong birokrasi di kecamatan kecama...\n",
            "4    pupuk urea di kab semarang langka pak gub tolo...\n",
            "5    tolong pak gubernur di kecamatan sadang kab ke...\n",
            "6    salam pak gubernur yang saya hormati mohon dic...\n",
            "7    di desa tumbrep kecamatan bandar kabupaten bat...\n",
            "8    lapor pak gubernur apa betul pencairan bansos ...\n",
            "9    jalan rusak parah terlihat tak seperti jalan m...\n",
            "Name: Message, dtype: object\n"
          ]
        }
      ],
      "source": [
        "print(df['Message'][:10])"
      ]
    },
    {
      "cell_type": "code",
      "execution_count": null,
      "metadata": {
        "id": "F7AwUrsb7_zL"
      },
      "outputs": [],
      "source": [
        "# Assuming df is your DataFrame containing the cleaned text\n",
        "for cleaned_text in df['cleaned_text']:\n",
        "    print(cleaned_text)\n"
      ]
    }
  ],
  "metadata": {
    "colab": {
      "provenance": []
    },
    "kernelspec": {
      "display_name": ".venv",
      "language": "python",
      "name": "python3"
    },
    "language_info": {
      "codemirror_mode": {
        "name": "ipython",
        "version": 3
      },
      "file_extension": ".py",
      "mimetype": "text/x-python",
      "name": "python",
      "nbconvert_exporter": "python",
      "pygments_lexer": "ipython3",
      "version": "3.7.5"
    }
  },
  "nbformat": 4,
  "nbformat_minor": 0
}
