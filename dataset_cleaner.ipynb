{
 "cells": [
  {
   "cell_type": "code",
   "execution_count": 8,
   "metadata": {},
   "outputs": [],
   "source": [
    "import pandas as pd\n",
    "import re\n",
    "from tqdm import tqdm\n",
    "from Sastrawi.StopWordRemover.StopWordRemoverFactory import StopWordRemoverFactory\n",
    "from Sastrawi.Stemmer.StemmerFactory import StemmerFactory"
   ]
  },
  {
   "cell_type": "code",
   "execution_count": 9,
   "metadata": {},
   "outputs": [
    {
     "name": "stdout",
     "output_type": "stream",
     "text": [
      "                                                Message   Status  \\\n",
      "0     Assalamualaikum...Pak gubernur.. Saya mau usul...  Selesai   \n",
      "1     Pak Gub,,, biaya perpanjangan SIM A umum,B1, B...  Selesai   \n",
      "3     Kpd Yth Gub Jateng. Gini pak Ganjar, akses jal...  Selesai   \n",
      "4                         JALAN WONOSOBO-SEMARANG RUSAK  Selesai   \n",
      "17    LAPOR pak gub, mohon d tindak lanjuti playanan...  Selesai   \n",
      "...                                                 ...      ...   \n",
      "1493  Mohon bantuannya pak.. Anak kami lahir prematu...  Selesai   \n",
      "1574  Alamat: Kabupaten/Kota wonosobo, Kecamatan sap...  Selesai   \n",
      "1584  lokasi sapuran wonosobo..saya habis bayar paja...  Selesai   \n",
      "1586  Alamat: Kabupaten/Kota Wonosobo, Kecamatan Sap...  Selesai   \n",
      "1598  Alamat: Kabupaten/Kota Wonosobo, Kecamatan Kal...  Selesai   \n",
      "\n",
      "                                      Departement  \n",
      "0     DINAS PEKERJAAN UMUM BINA MARGA CIPTA KARYA  \n",
      "1                   Kepolisian Daerah Jawa Tengah  \n",
      "3     DINAS PEKERJAAN UMUM BINA MARGA CIPTA KARYA  \n",
      "4     DINAS PEKERJAAN UMUM BINA MARGA CIPTA KARYA  \n",
      "17                                DINAS KESEHATAN  \n",
      "...                                           ...  \n",
      "1493                              DINAS KESEHATAN  \n",
      "1574  DINAS PEKERJAAN UMUM BINA MARGA CIPTA KARYA  \n",
      "1584                Kepolisian Daerah Jawa Tengah  \n",
      "1586                Kepolisian Daerah Jawa Tengah  \n",
      "1598  DINAS PEKERJAAN UMUM BINA MARGA CIPTA KARYA  \n",
      "\n",
      "[159 rows x 3 columns]\n"
     ]
    }
   ],
   "source": [
    "import pandas as pd\n",
    "\n",
    "# Load the CSV dataset into a Pandas DataFrame\n",
    "df = pd.read_csv(\"DatasetKabupaten/Skripsi/kabupaten wonosobo.csv\")\n",
    "\n",
    "# Filter the DataFrame to include only rows where the ticket status is \"Selesai\"\n",
    "# and the department is one of the specific three departments\n",
    "specific_departments = [\n",
    "    \"Kepolisian Daerah Jawa Tengah\",\n",
    "    \"DINAS PEKERJAAN UMUM BINA MARGA CIPTA KARYA\",\n",
    "    \"DINAS KESEHATAN\"\n",
    "]\n",
    "filtered_df = df[\n",
    "    (df[\"Status\"] == \"Selesai\") & (df[\"Departement\"].isin(specific_departments))\n",
    "]\n",
    "\n",
    "# Keep only the 'Message', 'Status', and 'Departement' columns\n",
    "filtered_df = filtered_df[[\"Message\", \"Status\", \"Departement\"]]\n",
    "\n",
    "# Save the preprocessed data to a new CSV file\n",
    "filtered_df.to_csv(\"wonosobo_filtered.csv\", index=False)\n",
    "\n",
    "# Display the preprocessed DataFrame\n",
    "print(filtered_df)"
   ]
  },
  {
   "cell_type": "code",
   "execution_count": 10,
   "metadata": {},
   "outputs": [],
   "source": [
    "# Load the dataset\n",
    "df = pd.read_csv(\"wonosobo_filtered.csv\")\n",
    "\n",
    "\n",
    "def preprocess_label(text):\n",
    "    # Convert text to lowercase\n",
    "    text = str(text).lower()\n",
    "    return text\n",
    "\n",
    "\n",
    "# Define a function to preprocess text\n",
    "def preprocess_text(text):\n",
    "    # Convert text to lowercase\n",
    "    text = str(text).lower()\n",
    "\n",
    "    # Remove special characters, numbers, and punctuation\n",
    "    text = re.sub(r\"[^a-z\\s]\", \" \", text)\n",
    "\n",
    "    # Tokenize the text\n",
    "    tokens = text.split()\n",
    "\n",
    "    # Remove stopwords\n",
    "    stopword_factory = StopWordRemoverFactory()\n",
    "    stopword_remover = stopword_factory.create_stop_word_remover()\n",
    "    tokens = [stopword_remover.remove(word) for word in tokens]\n",
    "\n",
    "    \"\"\"# Stemming\n",
    "    stemmer_factory = StemmerFactory()\n",
    "    stemmer = stemmer_factory.create_stemmer()\n",
    "    tokens = [stemmer.stem(word) for word in tokens]\"\"\"\n",
    "\n",
    "    # Join the tokens back into a single string\n",
    "    preprocessed_text = \" \".join(tokens)\n",
    "    if preprocessed_text and preprocessed_text[0].isspace():\n",
    "        preprocessed_text = preprocessed_text[1:]\n",
    "\n",
    "    preprocessed_text = re.sub(r\"\\s+\", \" \", text)\n",
    "    # print(preprocessed_text)\n",
    "    return preprocessed_text"
   ]
  },
  {
   "cell_type": "code",
   "execution_count": 11,
   "metadata": {},
   "outputs": [
    {
     "name": "stdout",
     "output_type": "stream",
     "text": [
      "proyek betonisasi jalan ngalian kalidadap tidak sesuai harapan..proyek milyaran pelaksanaan abur radul..akses jalan ditutup total selama 5 bulan..kasian pengguna sepeda motor tidak bisa lewat..\n"
     ]
    }
   ],
   "source": [
    "#3152\n",
    "print(df['Message'][50])"
   ]
  },
  {
   "cell_type": "code",
   "execution_count": 12,
   "metadata": {},
   "outputs": [
    {
     "name": "stderr",
     "output_type": "stream",
     "text": [
      "Preprocessing: 100%|██████████| 159/159 [00:00<00:00, 1026.93it/s]\n",
      "Preprocessing: 100%|██████████| 159/159 [00:00<00:00, 115100.85it/s]\n"
     ]
    }
   ],
   "source": [
    "tqdm.pandas(desc=\"Preprocessing\")\n",
    "df[\"Message\"] = df[\"Message\"].progress_apply(preprocess_text)\n",
    "df[\"Departement\"] = df[\"Departement\"].progress_apply(preprocess_label)\n",
    "\n",
    "\n",
    "# Save the preprocessed dataset to a new CSV file\n",
    "df.to_csv(\"wonosobo_filtered.csv\", index=False)"
   ]
  },
  {
   "cell_type": "code",
   "execution_count": 13,
   "metadata": {},
   "outputs": [],
   "source": [
    "# Apply the preprocessing function to the text column\n",
    "df['cleaned_text'] = df['Message'][:10].apply(preprocess_text)\n",
    "\n",
    "# Save the preprocessed dataset to a new CSV file\n",
    "df.to_csv('preprocessed_dataset.csv', index=False)"
   ]
  },
  {
   "cell_type": "code",
   "execution_count": 22,
   "metadata": {},
   "outputs": [
    {
     "name": "stdout",
     "output_type": "stream",
     "text": [
      "0    assalamualaikum pak gubernur saya mau usul mbo...\n",
      "1    pak gub biaya perpanjangan sim a umum b b umum...\n",
      "2    kpd yth gub jateng gini pak ganjar akses jalan...\n",
      "3                        jalan wonosobo semarang rusak\n",
      "4    jalan rusak parah silento wonosobo perbatasan ...\n",
      "5    assalamualaikum saya mau melaporkan tentang ja...\n",
      "6    lapor nama sy helmy jalan didepan rmh sy rusak...\n",
      "7    yang terhormat bp gubernur kami masyarakat ds ...\n",
      "8    yth bp ganjar sya mau menanyakan hasil ott di ...\n",
      "9    pak ganjar jalan lintas provinsi wonosobo jawa...\n",
      "Name: Message, dtype: object\n"
     ]
    }
   ],
   "source": [
    "print(df['Message'][:10])"
   ]
  },
  {
   "cell_type": "code",
   "execution_count": null,
   "metadata": {},
   "outputs": [],
   "source": [
    "# Assuming df is your DataFrame containing the cleaned text\n",
    "for cleaned_text in df['cleaned_text']:\n",
    "    print(cleaned_text)\n"
   ]
  }
 ],
 "metadata": {
  "kernelspec": {
   "display_name": ".venv",
   "language": "python",
   "name": "python3"
  },
  "language_info": {
   "codemirror_mode": {
    "name": "ipython",
    "version": 3
   },
   "file_extension": ".py",
   "mimetype": "text/x-python",
   "name": "python",
   "nbconvert_exporter": "python",
   "pygments_lexer": "ipython3",
   "version": "3.10.12"
  }
 },
 "nbformat": 4,
 "nbformat_minor": 2
}
