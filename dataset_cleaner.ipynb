{
 "cells": [
  {
   "cell_type": "code",
   "execution_count": 4,
   "metadata": {},
   "outputs": [
    {
     "name": "stdout",
     "output_type": "stream",
     "text": [
      "Defaulting to user installation because normal site-packages is not writeable\n",
      "Collecting Sastrawi\n",
      "  Downloading Sastrawi-1.0.1-py2.py3-none-any.whl.metadata (909 bytes)\n",
      "Downloading Sastrawi-1.0.1-py2.py3-none-any.whl (209 kB)\n",
      "\u001b[2K   \u001b[90m━━━━━━━━━━━━━━━━━━━━━━━━━━━━━━━━━━━━━━━\u001b[0m \u001b[32m209.7/209.7 kB\u001b[0m \u001b[31m996.8 kB/s\u001b[0m eta \u001b[36m0:00:00\u001b[0m0:01\u001b[0m00:01\u001b[0m\n",
      "\u001b[?25h\u001b[33mDEPRECATION: distro-info 0.18ubuntu0.18.04.1 has a non-standard version number. pip 24.1 will enforce this behaviour change. A possible replacement is to upgrade to a newer version of distro-info or contact the author to suggest that they release a version with a conforming version number. Discussion can be found at https://github.com/pypa/pip/issues/12063\u001b[0m\u001b[33m\n",
      "\u001b[0mInstalling collected packages: Sastrawi\n",
      "Successfully installed Sastrawi-1.0.1\n"
     ]
    }
   ],
   "source": [
    "!pip install Sastrawi"
   ]
  },
  {
   "cell_type": "code",
   "execution_count": 1,
   "metadata": {},
   "outputs": [],
   "source": [
    "import pandas as pd\n",
    "import re\n",
    "from tqdm import tqdm\n",
    "from Sastrawi.StopWordRemover.StopWordRemoverFactory import StopWordRemoverFactory\n",
    "from Sastrawi.Stemmer.StemmerFactory import StemmerFactory"
   ]
  },
  {
   "cell_type": "code",
   "execution_count": 2,
   "metadata": {},
   "outputs": [
    {
     "name": "stdout",
     "output_type": "stream",
     "text": [
      "22\n",
      "                                                 Message   Status  \\\n",
      "0      Kami 120 orang guru yang sudah memiliki SK tun...  Selesai   \n",
      "1      kenapa kab. brebes jalannya tidak pernah beres...  Selesai   \n",
      "2      Pak Ganjar......untuk wilayah Blora Kota saat ...  Selesai   \n",
      "3      Lapor Pak ... tolong birokrasi di Kecamatan ke...  Selesai   \n",
      "4      Pupuk Urea di Kab. Semarang langka pak Gub...t...  Selesai   \n",
      "...                                                  ...      ...   \n",
      "65953  Izin melaporkan kegiatan galian liar, Dukuh pi...  Selesai   \n",
      "65955  Selamat Pagi, Mohon perbaikan untuk jalan utam...  Selesai   \n",
      "65959  Izin melaporkan galian liar di dukuh Pilangban...  Selesai   \n",
      "65969  Lokasi aduan : ngembik lor jalan rambutan kram...  Selesai   \n",
      "65984  Tolong survei jalan provinsi Slawi-Jatinegara ...  Selesai   \n",
      "\n",
      "                                       Departement  \n",
      "0                         BADAN KEPEGAWAIAN DAERAH  \n",
      "1      DINAS PEKERJAAN UMUM BINA MARGA CIPTA KARYA  \n",
      "2             DINAS ENERGI DAN SUMBER DAYA MINERAL  \n",
      "3                         BADAN KEPEGAWAIAN DAERAH  \n",
      "4                   DINAS PERTANIAN DAN PERKEBUNAN  \n",
      "...                                            ...  \n",
      "65953         DINAS ENERGI DAN SUMBER DAYA MINERAL  \n",
      "65955  DINAS PEKERJAAN UMUM BINA MARGA CIPTA KARYA  \n",
      "65959         DINAS ENERGI DAN SUMBER DAYA MINERAL  \n",
      "65969              Kanwil BPN Provinsi Jawa Tengah  \n",
      "65984  DINAS PEKERJAAN UMUM BINA MARGA CIPTA KARYA  \n",
      "\n",
      "[26268 rows x 3 columns]\n"
     ]
    }
   ],
   "source": [
    "import pandas as pd\n",
    "\n",
    "# Load the CSV dataset into a Pandas DataFrame\n",
    "df = pd.read_csv(\"delapan juni.csv\")\n",
    "\n",
    "# Filter the DataFrame to include only rows where the ticket status is \"Selesai\"\n",
    "# and the department is one of the specific three departments\n",
    "specific_departments = [\n",
    "\"DINAS PEKERJAAN UMUM BINA MARGA CIPTA KARYA\",\n",
    "##\"Kepolisian Daerah Jawa Tengah\",\n",
    "\"DINAS ENERGI DAN SUMBER DAYA MINERAL\",\n",
    "\"DINAS PEMBERDAYAAN MASYARAKAT, DESA, KEPENDUDUKAN DAN PENCATATAN SIPIL\",\n",
    "#\"Kabupaten Demak\",\n",
    "#\"Kabupaten Grobogan\",\n",
    "\"DINAS KESEHATAN\",\n",
    "\"DINAS TENAGA KERJA DAN TRANSMIGRASI\",\n",
    "#\"Kabupaten Banyumas\",\n",
    "#\"Kabupaten Blora\",\n",
    "#\"Kabupaten Brebes\",\n",
    "\"BADAN PENGELOLA PENDAPATAN DAERAH\",\n",
    "#\"Kabupaten Kendal\",\n",
    "#\"Kabupaten Klaten\",\n",
    "#\"Kabupaten Semarang\",\n",
    "#\"Kabupaten Pati\",\n",
    "#\"Kabupaten Jepara\",\n",
    "#\"Kabupaten Boyolali\",\n",
    "\"Kanwil BPN Provinsi Jawa Tengah\",\n",
    "#\"Kabupaten Cilacap\",\n",
    "\"DINAS PERHUBUNGAN\",\n",
    "#\"Kabupaten Purworejo\",\n",
    "\"DINAS SOSIAL\",\n",
    "#\"Kabupaten Kebumen\",\n",
    "\"DINAS PENDIDIKAN DAN KEBUDAYAAN\",\n",
    "#\"Kabupaten Magelang\",\n",
    "#\"Kabupaten Sukoharjo\",\n",
    "\"DINAS PEKERJAAN UMUM SUMBER DAYA AIR DAN PENATAAN RUANG\",\n",
    "\"DINAS LINGKUNGAN HIDUP DAN KEHUTANAN\",\n",
    "\"DINAS PERUMAHAN RAKYAT DAN KAWASAN PERMUKIMAN\",\n",
    "#\"Kabupaten Purbalingga\",\n",
    "#\"Kabupaten Kudus\",\n",
    "\"DINAS PERINDUSTRIAN DAN PERDAGANGAN\",\n",
    "#\"Kabupaten Pekalongan\",\n",
    "\"BIRO PEREKONOMIAN\",\n",
    "#\"Kabupaten Sragen\",\n",
    "#\"Kabupaten Karanganyar\",\n",
    "\"BPJS Kesehatan\",\n",
    "#\"Kabupaten Wonosobo\",\n",
    "#\"Kabupaten Temanggung\",\n",
    "\"BADAN PENGHUBUNG\",\n",
    "#\"Kabupaten Rembang\",\n",
    "#\"Kabupaten Wonogiri\",\n",
    "#\"Kabupaten Batang\",\n",
    "##\"DINAS KOPERASI DAN UMKM\",\n",
    "#\"Kota Surakarta\",\n",
    "\"DINAS PERTANIAN DAN PERKEBUNAN\",\n",
    "\"BADAN PENANGGULANGAN BENCANA DAERAH\",\n",
    "#\"Kabupaten Banjarnegara\",\n",
    "\"Kanwil Kemenag Provinsi Jawa Tengah\",\n",
    "#\"Kabupaten Tegal\",\n",
    "\"BADAN KEPEGAWAIAN DAERAH\",\n",
    "##\"INSPEKTORAT\",\n",
    "##\"BIRO KESEJAHTERAAN RAKYAT\",\n",
    "#\"Kota Tegal\",\n",
    "##\"BANK JATENG\",\n",
    "##\"DINAS KEPEMUDAAN, OLAHRAGA DAN PARIWISATA\",\n",
    "#\"Kota Magelang\",\n",
    "#\"Kota Salatiga\",\n",
    "##\"BIRO UMUM\",\n",
    "#\"Balai Besar Pelaksanaan Jalan Nasional Jawa Tengah & DIY\",\n",
    "##\"DINAS KOMUNIKASI DAN INFORMATIKA\",\n",
    "##\"DINAS PETERNAKAN DAN KESEHATAN HEWAN\",\n",
    "#\"Kota Pekalongan\",\n",
    "\"BPJS Ketenagakerjaan Kanwil Jateng dan DIY\",\n",
    "##\"DINAS KELAUTAN DAN PERIKANAN\",\n",
    "##\"DINAS PENANAMAN MODAL DAN PELAYANAN TERPADU SATU PINTU\",\n",
    "]\n",
    "filtered_df = df[\n",
    "    (df[\"Status\"] == \"Selesai\") & (df[\"Departement\"].isin(specific_departments))\n",
    "]\n",
    "\n",
    "# Keep only the 'Message', 'Status', and 'Departement' columns\n",
    "filtered_df = filtered_df[[\"Message\", \"Status\", \"Departement\"]]\n",
    "\n",
    "# Save the preprocessed data to a new CSV file\n",
    "filtered_df.to_csv(\"delapan juni filtered2.csv\", index=False)\n",
    "\n",
    "# Display the preprocessed DataFrame\n",
    "print(len(specific_departments))\n",
    "print(filtered_df)"
   ]
  },
  {
   "cell_type": "code",
   "execution_count": 3,
   "metadata": {},
   "outputs": [],
   "source": [
    "# Load the dataset\n",
    "df = pd.read_csv(\"delapan juni filtered2.csv\")\n",
    "\n",
    "\n",
    "def preprocess_label(text):\n",
    "    # Convert text to lowercase\n",
    "    text = str(text).lower()\n",
    "    return text\n",
    "\n",
    "\n",
    "# Define a function to preprocess text\n",
    "def preprocess_text(text):\n",
    "    # Convert text to lowercase\n",
    "    text = str(text).lower()\n",
    "\n",
    "    # Remove special characters, numbers, and punctuation\n",
    "    text = re.sub(r\"[^a-z\\s]\", \" \", text)\n",
    "\n",
    "    # Tokenize the text\n",
    "    tokens = text.split()\n",
    "\n",
    "    # Remove stopwords\n",
    "    stopword_factory = StopWordRemoverFactory()\n",
    "    stopword_remover = stopword_factory.create_stop_word_remover()\n",
    "    tokens = [stopword_remover.remove(word) for word in tokens]\n",
    "\n",
    "    \"\"\"# Stemming\n",
    "    stemmer_factory = StemmerFactory()\n",
    "    stemmer = stemmer_factory.create_stemmer()\n",
    "    tokens = [stemmer.stem(word) for word in tokens]\"\"\"\n",
    "\n",
    "    # Join the tokens back into a single string\n",
    "    preprocessed_text = \" \".join(tokens)\n",
    "    if preprocessed_text and preprocessed_text[0].isspace():\n",
    "        preprocessed_text = preprocessed_text[1:]\n",
    "\n",
    "    preprocessed_text = re.sub(r\"\\s+\", \" \", text)\n",
    "    # print(preprocessed_text)\n",
    "    return preprocessed_text"
   ]
  },
  {
   "cell_type": "code",
   "execution_count": 4,
   "metadata": {},
   "outputs": [
    {
     "name": "stdout",
     "output_type": "stream",
     "text": [
      "jalan propinsi lasem-sale kab.rembang rusak parah pak 1 tahun ini, aspalnya sudah pada hilang,, tolong cepat dperbaiki.. karena itu wewenang provinsi bukan kabupaten.. kabupaten tidak mau memperbaiki karena itu jalan propinsi..\n"
     ]
    }
   ],
   "source": [
    "#3152\n",
    "print(df['Message'][40])"
   ]
  },
  {
   "cell_type": "code",
   "execution_count": 5,
   "metadata": {},
   "outputs": [
    {
     "name": "stderr",
     "output_type": "stream",
     "text": [
      "Preprocessing: 100%|██████████| 26268/26268 [00:14<00:00, 1828.56it/s]\n",
      "Preprocessing: 100%|██████████| 26268/26268 [00:00<00:00, 222046.61it/s]\n"
     ]
    }
   ],
   "source": [
    "tqdm.pandas(desc=\"Preprocessing\")\n",
    "df[\"Message\"] = df[\"Message\"].progress_apply(preprocess_text)\n",
    "df[\"Departement\"] = df[\"Departement\"].progress_apply(preprocess_label)\n",
    "\n",
    "\n",
    "# Save the preprocessed dataset to a new CSV file\n",
    "df.to_csv(\"delapan juni filtered2.csv\", index=False)"
   ]
  },
  {
   "cell_type": "code",
   "execution_count": 13,
   "metadata": {},
   "outputs": [],
   "source": [
    "# Apply the preprocessing function to the text column\n",
    "df['cleaned_text'] = df['Message'][:10].apply(preprocess_text)\n",
    "\n",
    "# Save the preprocessed dataset to a new CSV file\n",
    "df.to_csv('preprocessed_dataset.csv', index=False)"
   ]
  },
  {
   "cell_type": "code",
   "execution_count": 6,
   "metadata": {},
   "outputs": [
    {
     "name": "stdout",
     "output_type": "stream",
     "text": [
      "0    kami orang guru yang sudah memiliki sk tunjang...\n",
      "1    kenapa kab brebes jalannya tidak pernah beres ...\n",
      "2    pak ganjar untuk wilayah blora kota saat ini k...\n",
      "3    lapor pak tolong birokrasi di kecamatan kecama...\n",
      "4    pupuk urea di kab semarang langka pak gub tolo...\n",
      "5    tolong pak gubernur di kecamatan sadang kab ke...\n",
      "6    salam pak gubernur yang saya hormati mohon dic...\n",
      "7    di desa tumbrep kecamatan bandar kabupaten bat...\n",
      "8    lapor pak gubernur apa betul pencairan bansos ...\n",
      "9    jalan rusak parah terlihat tak seperti jalan m...\n",
      "Name: Message, dtype: object\n"
     ]
    }
   ],
   "source": [
    "print(df['Message'][:10])"
   ]
  },
  {
   "cell_type": "code",
   "execution_count": null,
   "metadata": {},
   "outputs": [],
   "source": [
    "# Assuming df is your DataFrame containing the cleaned text\n",
    "for cleaned_text in df['cleaned_text']:\n",
    "    print(cleaned_text)\n"
   ]
  }
 ],
 "metadata": {
  "kernelspec": {
   "display_name": ".venv",
   "language": "python",
   "name": "python3"
  },
  "language_info": {
   "codemirror_mode": {
    "name": "ipython",
    "version": 3
   },
   "file_extension": ".py",
   "mimetype": "text/x-python",
   "name": "python",
   "nbconvert_exporter": "python",
   "pygments_lexer": "ipython3",
   "version": "3.7.5"
  }
 },
 "nbformat": 4,
 "nbformat_minor": 2
}
